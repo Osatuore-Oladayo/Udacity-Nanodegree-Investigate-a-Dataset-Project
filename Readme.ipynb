{
 "cells": [
  {
   "cell_type": "markdown",
   "id": "7236318a",
   "metadata": {},
   "source": [
    "# Investigate a Dataset (Medical Appointment No Shows)\n",
    "> In this project, Medical Appointment dataset also known as 'No Shows' is analysed to find insights of interest to increase the rate of turn out of patients for medical appointments. The dataset collects information from 110k medical appointments in Brazil.\n",
    "\n",
    "## Dataset\n",
    ">Medical Appointment No Shows dataset was provided by Udacity after cleaning the original dataset found [here](https://www.kaggle.com/datasets/joniarroba/noshowappointments).\n",
    "\n",
    "##  Technologies Used\n",
    "- Python 3.9.11\n",
    "- Libraries: NumPy, pandas, Matplotlib, and Seaborn.\n",
    "\n",
    "### More about the dataset, analysis and insights found in the jupyter notebook 'Investigate_a_Dataset.ipynb'.\n"
   ]
  },
  {
   "cell_type": "code",
   "execution_count": null,
   "id": "71323323",
   "metadata": {},
   "outputs": [],
   "source": []
  }
 ],
 "metadata": {
  "kernelspec": {
   "display_name": "Python 3 (ipykernel)",
   "language": "python",
   "name": "python3"
  },
  "language_info": {
   "codemirror_mode": {
    "name": "ipython",
    "version": 3
   },
   "file_extension": ".py",
   "mimetype": "text/x-python",
   "name": "python",
   "nbconvert_exporter": "python",
   "pygments_lexer": "ipython3",
   "version": "3.9.7"
  },
  "toc": {
   "base_numbering": 1,
   "nav_menu": {},
   "number_sections": true,
   "sideBar": true,
   "skip_h1_title": false,
   "title_cell": "Table of Contents",
   "title_sidebar": "Contents",
   "toc_cell": false,
   "toc_position": {},
   "toc_section_display": true,
   "toc_window_display": true
  }
 },
 "nbformat": 4,
 "nbformat_minor": 5
}
