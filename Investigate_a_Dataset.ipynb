{
 "cells": [
  {
   "cell_type": "markdown",
   "metadata": {},
   "source": [
    "\n",
    "\n",
    "# Project: Analysis of kaggle hospital no show dataset\n",
    "\n",
    "## Table of Contents\n",
    "<ul>\n",
    "<li><a href=\"#intro\">Introduction</a></li>\n",
    "<li><a href=\"#wrangling\">Data Wrangling</a></li>\n",
    "<li><a href=\"#eda\">Exploratory Data Analysis</a></li>\n",
    "<li><a href=\"#conclusions\">Conclusions</a></li>\n",
    "</ul>"
   ]
  },
  {
   "cell_type": "markdown",
   "metadata": {},
   "source": [
    "<a id='intro'></a>\n",
    "## Introduction\n",
    "\n",
    "### Dataset Description \n",
    "\n",
    ">This report investigates the Kaggle no-show appointments dataset, which collects information from over 100k medical appointments in Brazil. We are interested in looking at if patients kept their sheduled appointment or not in relation to factors that would have waranted that occurence in order to determine the factors to use in predicting future occuraces i.e whether a patient will keep their appointment or not.\n",
    "\n",
    ">The dataset consists of the following attributes from which attributes will be selected to use in the analysis.\n",
    "><li>PatientId: This is a unique ID given to every patient used in identifying each patients.</li>\n",
    "><li>AppointentID: This is a unique ID that associated with evey booked appointment.</li>\n",
    "><li>Gender: Indicates the sex of each patient.</li>\n",
    "><li>ScheduledDay: This is the day and time appointments were booked by patients.</li>\n",
    "><li>AppointmentDay: This is the date patients booked to show up for appointments in the hospital</li>\n",
    "><li>Age: The age of each patient.</li>\n",
    "><li>Neighbourhood: The name of the address the hospitals are located.</li>\n",
    "><li>Scholarship: This indicates if patients are enrolled into the scholarship or not</li>\n",
    "><li>Hypertension: Here, patients signify if they are hypertensive with (1) or not with (0).</li>\n",
    "><li>Diabetes: Here, patients signify if they are diabetic with (1) or not with (0).</li>\n",
    "><li>Alcoholism: Here, patients signify if they have problem with alcohol with (1) or not with (0).</li>\n",
    "><li>Handicap: This gives the total number of health situations a patient has identified with based on the health problems in the previous columns.</li>\n",
    "><li>SMS_received: Here, patients signify with (1) if they got an SMS alert reminding them of their booked appointments or (0) if they did not get an SMS reminder.</li>\n",
    "><li>NoShow: This column reports a yes if patients eventually showed up for their appointments or no, if they did not show up.</li>\n",
    "\n",
    "    "
   ]
  },
  {
   "cell_type": "markdown",
   "metadata": {},
   "source": [
    "### Research Question: What factors are important for us to know in order to predict if a patient will show up for their scheduled appointment?\n",
    "\n",
    "### To answer the research question, the following sub questions will be answered:\n",
    "\n",
    "\n",
    "><li>Was the attribute Age a factor in patients keeping thier appointments or not?</li>\n",
    "><li>Was the attribute Scholarship a factor in patients keeping thier appointments or not?</li>\n",
    "><li>How related is Age and Scholarship in regards to patients decision to show up or not for their scheduled appointment?</li>\n",
    "><li>Was the attribute SMSReceived a factor in patients keeping their appointments or not?</li>\n",
    "><li>Were patients' decisions to show up or not for their appointments linked to them being handicap or not?</li>"
   ]
  },
  {
   "cell_type": "code",
   "execution_count": 1,
   "metadata": {},
   "outputs": [],
   "source": [
    "import numpy as np\n",
    "import pandas as pd\n",
    "import matplotlib.pyplot as plt\n",
    "import seaborn as sns\n",
    "%matplotlib inline"
   ]
  },
  {
   "cell_type": "code",
   "execution_count": 2,
   "metadata": {},
   "outputs": [],
   "source": [
    "# Upgrade pandas to use dataframe.explode() function. \n",
    "# !pip install --upgrade pandas==0.25.0"
   ]
  },
  {
   "cell_type": "markdown",
   "metadata": {
    "collapsed": true
   },
   "source": [
    "### Dataset Structure"
   ]
  },
  {
   "cell_type": "code",
   "execution_count": 3,
   "metadata": {
    "scrolled": true
   },
   "outputs": [
    {
     "data": {
      "text/html": [
       "<div>\n",
       "<style scoped>\n",
       "    .dataframe tbody tr th:only-of-type {\n",
       "        vertical-align: middle;\n",
       "    }\n",
       "\n",
       "    .dataframe tbody tr th {\n",
       "        vertical-align: top;\n",
       "    }\n",
       "\n",
       "    .dataframe thead th {\n",
       "        text-align: right;\n",
       "    }\n",
       "</style>\n",
       "<table border=\"1\" class=\"dataframe\">\n",
       "  <thead>\n",
       "    <tr style=\"text-align: right;\">\n",
       "      <th></th>\n",
       "      <th>PatientId</th>\n",
       "      <th>AppointmentID</th>\n",
       "      <th>Gender</th>\n",
       "      <th>ScheduledDay</th>\n",
       "      <th>AppointmentDay</th>\n",
       "      <th>Age</th>\n",
       "      <th>Neighbourhood</th>\n",
       "      <th>Scholarship</th>\n",
       "      <th>Hipertension</th>\n",
       "      <th>Diabetes</th>\n",
       "      <th>Alcoholism</th>\n",
       "      <th>Handcap</th>\n",
       "      <th>SMS_received</th>\n",
       "      <th>No-show</th>\n",
       "    </tr>\n",
       "  </thead>\n",
       "  <tbody>\n",
       "    <tr>\n",
       "      <th>0</th>\n",
       "      <td>2.987250e+13</td>\n",
       "      <td>5642903</td>\n",
       "      <td>F</td>\n",
       "      <td>2016-04-29T18:38:08Z</td>\n",
       "      <td>2016-04-29T00:00:00Z</td>\n",
       "      <td>62</td>\n",
       "      <td>JARDIM DA PENHA</td>\n",
       "      <td>0</td>\n",
       "      <td>1</td>\n",
       "      <td>0</td>\n",
       "      <td>0</td>\n",
       "      <td>0</td>\n",
       "      <td>0</td>\n",
       "      <td>No</td>\n",
       "    </tr>\n",
       "    <tr>\n",
       "      <th>1</th>\n",
       "      <td>5.589978e+14</td>\n",
       "      <td>5642503</td>\n",
       "      <td>M</td>\n",
       "      <td>2016-04-29T16:08:27Z</td>\n",
       "      <td>2016-04-29T00:00:00Z</td>\n",
       "      <td>56</td>\n",
       "      <td>JARDIM DA PENHA</td>\n",
       "      <td>0</td>\n",
       "      <td>0</td>\n",
       "      <td>0</td>\n",
       "      <td>0</td>\n",
       "      <td>0</td>\n",
       "      <td>0</td>\n",
       "      <td>No</td>\n",
       "    </tr>\n",
       "    <tr>\n",
       "      <th>2</th>\n",
       "      <td>4.262962e+12</td>\n",
       "      <td>5642549</td>\n",
       "      <td>F</td>\n",
       "      <td>2016-04-29T16:19:04Z</td>\n",
       "      <td>2016-04-29T00:00:00Z</td>\n",
       "      <td>62</td>\n",
       "      <td>MATA DA PRAIA</td>\n",
       "      <td>0</td>\n",
       "      <td>0</td>\n",
       "      <td>0</td>\n",
       "      <td>0</td>\n",
       "      <td>0</td>\n",
       "      <td>0</td>\n",
       "      <td>No</td>\n",
       "    </tr>\n",
       "    <tr>\n",
       "      <th>3</th>\n",
       "      <td>8.679512e+11</td>\n",
       "      <td>5642828</td>\n",
       "      <td>F</td>\n",
       "      <td>2016-04-29T17:29:31Z</td>\n",
       "      <td>2016-04-29T00:00:00Z</td>\n",
       "      <td>8</td>\n",
       "      <td>PONTAL DE CAMBURI</td>\n",
       "      <td>0</td>\n",
       "      <td>0</td>\n",
       "      <td>0</td>\n",
       "      <td>0</td>\n",
       "      <td>0</td>\n",
       "      <td>0</td>\n",
       "      <td>No</td>\n",
       "    </tr>\n",
       "    <tr>\n",
       "      <th>4</th>\n",
       "      <td>8.841186e+12</td>\n",
       "      <td>5642494</td>\n",
       "      <td>F</td>\n",
       "      <td>2016-04-29T16:07:23Z</td>\n",
       "      <td>2016-04-29T00:00:00Z</td>\n",
       "      <td>56</td>\n",
       "      <td>JARDIM DA PENHA</td>\n",
       "      <td>0</td>\n",
       "      <td>1</td>\n",
       "      <td>1</td>\n",
       "      <td>0</td>\n",
       "      <td>0</td>\n",
       "      <td>0</td>\n",
       "      <td>No</td>\n",
       "    </tr>\n",
       "  </tbody>\n",
       "</table>\n",
       "</div>"
      ],
      "text/plain": [
       "      PatientId  AppointmentID Gender          ScheduledDay  \\\n",
       "0  2.987250e+13        5642903      F  2016-04-29T18:38:08Z   \n",
       "1  5.589978e+14        5642503      M  2016-04-29T16:08:27Z   \n",
       "2  4.262962e+12        5642549      F  2016-04-29T16:19:04Z   \n",
       "3  8.679512e+11        5642828      F  2016-04-29T17:29:31Z   \n",
       "4  8.841186e+12        5642494      F  2016-04-29T16:07:23Z   \n",
       "\n",
       "         AppointmentDay  Age      Neighbourhood  Scholarship  Hipertension  \\\n",
       "0  2016-04-29T00:00:00Z   62    JARDIM DA PENHA            0             1   \n",
       "1  2016-04-29T00:00:00Z   56    JARDIM DA PENHA            0             0   \n",
       "2  2016-04-29T00:00:00Z   62      MATA DA PRAIA            0             0   \n",
       "3  2016-04-29T00:00:00Z    8  PONTAL DE CAMBURI            0             0   \n",
       "4  2016-04-29T00:00:00Z   56    JARDIM DA PENHA            0             1   \n",
       "\n",
       "   Diabetes  Alcoholism  Handcap  SMS_received No-show  \n",
       "0         0           0        0             0      No  \n",
       "1         0           0        0             0      No  \n",
       "2         0           0        0             0      No  \n",
       "3         0           0        0             0      No  \n",
       "4         1           0        0             0      No  "
      ]
     },
     "execution_count": 3,
     "metadata": {},
     "output_type": "execute_result"
    }
   ],
   "source": [
    "# Loading the dataset and checking the first 5 rows\n",
    "df = pd.read_csv('noshowappointments-kagglev2-may-2016.csv')\n",
    "df.head()"
   ]
  },
  {
   "cell_type": "code",
   "execution_count": 4,
   "metadata": {},
   "outputs": [
    {
     "data": {
      "text/plain": [
       "(110527, 14)"
      ]
     },
     "execution_count": 4,
     "metadata": {},
     "output_type": "execute_result"
    }
   ],
   "source": [
    "# Checking to see the number of rows and columns\n",
    "df.shape"
   ]
  },
  {
   "cell_type": "code",
   "execution_count": 5,
   "metadata": {},
   "outputs": [
    {
     "name": "stdout",
     "output_type": "stream",
     "text": [
      "<class 'pandas.core.frame.DataFrame'>\n",
      "RangeIndex: 110527 entries, 0 to 110526\n",
      "Data columns (total 14 columns):\n",
      " #   Column          Non-Null Count   Dtype  \n",
      "---  ------          --------------   -----  \n",
      " 0   PatientId       110527 non-null  float64\n",
      " 1   AppointmentID   110527 non-null  int64  \n",
      " 2   Gender          110527 non-null  object \n",
      " 3   ScheduledDay    110527 non-null  object \n",
      " 4   AppointmentDay  110527 non-null  object \n",
      " 5   Age             110527 non-null  int64  \n",
      " 6   Neighbourhood   110527 non-null  object \n",
      " 7   Scholarship     110527 non-null  int64  \n",
      " 8   Hipertension    110527 non-null  int64  \n",
      " 9   Diabetes        110527 non-null  int64  \n",
      " 10  Alcoholism      110527 non-null  int64  \n",
      " 11  Handcap         110527 non-null  int64  \n",
      " 12  SMS_received    110527 non-null  int64  \n",
      " 13  No-show         110527 non-null  object \n",
      "dtypes: float64(1), int64(8), object(5)\n",
      "memory usage: 11.8+ MB\n"
     ]
    }
   ],
   "source": [
    "# Checking for a general information about the columns like their data types, null value counts.\n",
    "df.info()"
   ]
  },
  {
   "cell_type": "code",
   "execution_count": 6,
   "metadata": {},
   "outputs": [
    {
     "data": {
      "text/plain": [
       "False"
      ]
     },
     "execution_count": 6,
     "metadata": {},
     "output_type": "execute_result"
    }
   ],
   "source": [
    "# Double checking for missing values\n",
    "df.isnull().values.any()"
   ]
  },
  {
   "cell_type": "code",
   "execution_count": 7,
   "metadata": {},
   "outputs": [
    {
     "data": {
      "text/plain": [
       "0"
      ]
     },
     "execution_count": 7,
     "metadata": {},
     "output_type": "execute_result"
    }
   ],
   "source": [
    "# Checking for duplicate rows\n",
    "df.duplicated().sum()"
   ]
  },
  {
   "cell_type": "code",
   "execution_count": 8,
   "metadata": {},
   "outputs": [
    {
     "data": {
      "text/plain": [
       "62299"
      ]
     },
     "execution_count": 8,
     "metadata": {},
     "output_type": "execute_result"
    }
   ],
   "source": [
    "# Number of distinct patients\n",
    "df.PatientId.nunique()"
   ]
  },
  {
   "cell_type": "code",
   "execution_count": 9,
   "metadata": {},
   "outputs": [
    {
     "data": {
      "text/html": [
       "<div>\n",
       "<style scoped>\n",
       "    .dataframe tbody tr th:only-of-type {\n",
       "        vertical-align: middle;\n",
       "    }\n",
       "\n",
       "    .dataframe tbody tr th {\n",
       "        vertical-align: top;\n",
       "    }\n",
       "\n",
       "    .dataframe thead th {\n",
       "        text-align: right;\n",
       "    }\n",
       "</style>\n",
       "<table border=\"1\" class=\"dataframe\">\n",
       "  <thead>\n",
       "    <tr style=\"text-align: right;\">\n",
       "      <th></th>\n",
       "      <th>PatientId</th>\n",
       "      <th>AppointmentID</th>\n",
       "      <th>Age</th>\n",
       "      <th>Scholarship</th>\n",
       "      <th>Hipertension</th>\n",
       "      <th>Diabetes</th>\n",
       "      <th>Alcoholism</th>\n",
       "      <th>Handcap</th>\n",
       "      <th>SMS_received</th>\n",
       "    </tr>\n",
       "  </thead>\n",
       "  <tbody>\n",
       "    <tr>\n",
       "      <th>count</th>\n",
       "      <td>1.105270e+05</td>\n",
       "      <td>1.105270e+05</td>\n",
       "      <td>110527.000000</td>\n",
       "      <td>110527.000000</td>\n",
       "      <td>110527.000000</td>\n",
       "      <td>110527.000000</td>\n",
       "      <td>110527.000000</td>\n",
       "      <td>110527.000000</td>\n",
       "      <td>110527.000000</td>\n",
       "    </tr>\n",
       "    <tr>\n",
       "      <th>mean</th>\n",
       "      <td>1.474963e+14</td>\n",
       "      <td>5.675305e+06</td>\n",
       "      <td>37.088874</td>\n",
       "      <td>0.098266</td>\n",
       "      <td>0.197246</td>\n",
       "      <td>0.071865</td>\n",
       "      <td>0.030400</td>\n",
       "      <td>0.022248</td>\n",
       "      <td>0.321026</td>\n",
       "    </tr>\n",
       "    <tr>\n",
       "      <th>std</th>\n",
       "      <td>2.560949e+14</td>\n",
       "      <td>7.129575e+04</td>\n",
       "      <td>23.110205</td>\n",
       "      <td>0.297675</td>\n",
       "      <td>0.397921</td>\n",
       "      <td>0.258265</td>\n",
       "      <td>0.171686</td>\n",
       "      <td>0.161543</td>\n",
       "      <td>0.466873</td>\n",
       "    </tr>\n",
       "    <tr>\n",
       "      <th>min</th>\n",
       "      <td>3.921784e+04</td>\n",
       "      <td>5.030230e+06</td>\n",
       "      <td>-1.000000</td>\n",
       "      <td>0.000000</td>\n",
       "      <td>0.000000</td>\n",
       "      <td>0.000000</td>\n",
       "      <td>0.000000</td>\n",
       "      <td>0.000000</td>\n",
       "      <td>0.000000</td>\n",
       "    </tr>\n",
       "    <tr>\n",
       "      <th>25%</th>\n",
       "      <td>4.172614e+12</td>\n",
       "      <td>5.640286e+06</td>\n",
       "      <td>18.000000</td>\n",
       "      <td>0.000000</td>\n",
       "      <td>0.000000</td>\n",
       "      <td>0.000000</td>\n",
       "      <td>0.000000</td>\n",
       "      <td>0.000000</td>\n",
       "      <td>0.000000</td>\n",
       "    </tr>\n",
       "    <tr>\n",
       "      <th>50%</th>\n",
       "      <td>3.173184e+13</td>\n",
       "      <td>5.680573e+06</td>\n",
       "      <td>37.000000</td>\n",
       "      <td>0.000000</td>\n",
       "      <td>0.000000</td>\n",
       "      <td>0.000000</td>\n",
       "      <td>0.000000</td>\n",
       "      <td>0.000000</td>\n",
       "      <td>0.000000</td>\n",
       "    </tr>\n",
       "    <tr>\n",
       "      <th>75%</th>\n",
       "      <td>9.439172e+13</td>\n",
       "      <td>5.725524e+06</td>\n",
       "      <td>55.000000</td>\n",
       "      <td>0.000000</td>\n",
       "      <td>0.000000</td>\n",
       "      <td>0.000000</td>\n",
       "      <td>0.000000</td>\n",
       "      <td>0.000000</td>\n",
       "      <td>1.000000</td>\n",
       "    </tr>\n",
       "    <tr>\n",
       "      <th>max</th>\n",
       "      <td>9.999816e+14</td>\n",
       "      <td>5.790484e+06</td>\n",
       "      <td>115.000000</td>\n",
       "      <td>1.000000</td>\n",
       "      <td>1.000000</td>\n",
       "      <td>1.000000</td>\n",
       "      <td>1.000000</td>\n",
       "      <td>4.000000</td>\n",
       "      <td>1.000000</td>\n",
       "    </tr>\n",
       "  </tbody>\n",
       "</table>\n",
       "</div>"
      ],
      "text/plain": [
       "          PatientId  AppointmentID            Age    Scholarship  \\\n",
       "count  1.105270e+05   1.105270e+05  110527.000000  110527.000000   \n",
       "mean   1.474963e+14   5.675305e+06      37.088874       0.098266   \n",
       "std    2.560949e+14   7.129575e+04      23.110205       0.297675   \n",
       "min    3.921784e+04   5.030230e+06      -1.000000       0.000000   \n",
       "25%    4.172614e+12   5.640286e+06      18.000000       0.000000   \n",
       "50%    3.173184e+13   5.680573e+06      37.000000       0.000000   \n",
       "75%    9.439172e+13   5.725524e+06      55.000000       0.000000   \n",
       "max    9.999816e+14   5.790484e+06     115.000000       1.000000   \n",
       "\n",
       "        Hipertension       Diabetes     Alcoholism        Handcap  \\\n",
       "count  110527.000000  110527.000000  110527.000000  110527.000000   \n",
       "mean        0.197246       0.071865       0.030400       0.022248   \n",
       "std         0.397921       0.258265       0.171686       0.161543   \n",
       "min         0.000000       0.000000       0.000000       0.000000   \n",
       "25%         0.000000       0.000000       0.000000       0.000000   \n",
       "50%         0.000000       0.000000       0.000000       0.000000   \n",
       "75%         0.000000       0.000000       0.000000       0.000000   \n",
       "max         1.000000       1.000000       1.000000       4.000000   \n",
       "\n",
       "        SMS_received  \n",
       "count  110527.000000  \n",
       "mean        0.321026  \n",
       "std         0.466873  \n",
       "min         0.000000  \n",
       "25%         0.000000  \n",
       "50%         0.000000  \n",
       "75%         1.000000  \n",
       "max         1.000000  "
      ]
     },
     "execution_count": 9,
     "metadata": {},
     "output_type": "execute_result"
    }
   ],
   "source": [
    "# Summary Statistics\n",
    "df.describe()"
   ]
  },
  {
   "cell_type": "code",
   "execution_count": 10,
   "metadata": {},
   "outputs": [
    {
     "data": {
      "image/png": "[encoded data removed]",
      "text/plain": [
       "<Figure size 720x720 with 9 Axes>"
      ]
     },
     "metadata": {
      "needs_background": "light"
     },
     "output_type": "display_data"
    }
   ],
   "source": [
    "# histogram plot of the dataset\n",
    "df.hist(figsize=(10,10));"
   ]
  },
  {
   "cell_type": "markdown",
   "metadata": {},
   "source": [
    "### Discussion on the Dataset Struction "
   ]
  },
  {
   "cell_type": "markdown",
   "metadata": {},
   "source": [
    ">From the dataset, it is seen that they are one hundred and ten thousand, five hundred and twenty seven sheduled appointments from sixty-two thousand, two hundred and ninty-nine patients. This implies that some patients made more than one appointments. \n",
    ">There are also a total of fourteen different attributes (columns) collected about each patient. No missing values or duplicate rows were found in the dataset.\n",
    "\n",
    ">From the columns with values in 0s and 1s indicate boolean values i.e, yes(1) or no(0) as responses. The scheduled day indicates the day the patient went to make the appointment and the appointment day indicates the actual date for the appointment just to clear any confusion. \n",
    "    \n",
    ">From the summary statisctics and histogram above, we can see that majority of patients did not recieve an sms alerts reminding them about their appointments. Majority of patients are also not handicaped, neither do they take alcohol. \n",
    "\n",
    ">We can also see from the histogram that majority of the patients are not on the brazilian scholarship, they are not hipertensive nor diabetic. Finally, from the summary statiistics, we can see that the maximum age of patients represented in the dataset is 115, while majority of them between the age of 30 and 60 years. There is also a minimum age of -1 which I believe is an error hence that would be changed to 0 in the data cleaning phase."
   ]
  },
  {
   "cell_type": "markdown",
   "metadata": {},
   "source": [
    "\n",
    "## Data Wrangling\n",
    "> **Tip**: Make sure that you keep your reader informed on the steps that you are taking in your investigation. Follow every code cell, or every set of related code cells, with a markdown cell to describe to the reader what was found in the preceding cell(s). Try to make it so that the reader can then understand what they will be seeing in the following cell(s).\n",
    "\n",
    "> The following were taken into consideration in cleaning the dataset:\n",
    "    <li>I realized that both the patientId and the appointmentId are used for the primary keys hence droping the appointment id which is not relevant to the analysis will throw duplicate values because some patients booked more than one appointment. Hence I decided to keep it.</li>\n",
    "    <li>Made the columns No-show and SMS_received consistent with the formats of other columns and corrected the handcap and hipertension spelling.</li>\n",
    "    <li>Changed the data types of sheduledDay and AppointmentDay to datetime.</li>\n",
    "    <li>Replaced the age with the -1 value with 0.</li>\n",
    "    <li>Transform the NoShow column for Yes and No values to 0s and 1s, making it of type integer.</li>\n",
    "    <li>Were patients decision to show up or not for their appointment linked to them being handicaped or not?</li>"
   ]
  },
  {
   "cell_type": "code",
   "execution_count": 11,
   "metadata": {},
   "outputs": [
    {
     "data": {
      "text/html": [
       "<div>\n",
       "<style scoped>\n",
       "    .dataframe tbody tr th:only-of-type {\n",
       "        vertical-align: middle;\n",
       "    }\n",
       "\n",
       "    .dataframe tbody tr th {\n",
       "        vertical-align: top;\n",
       "    }\n",
       "\n",
       "    .dataframe thead th {\n",
       "        text-align: right;\n",
       "    }\n",
       "</style>\n",
       "<table border=\"1\" class=\"dataframe\">\n",
       "  <thead>\n",
       "    <tr style=\"text-align: right;\">\n",
       "      <th></th>\n",
       "      <th>PatientId</th>\n",
       "      <th>AppointmentID</th>\n",
       "      <th>Gender</th>\n",
       "      <th>ScheduledDay</th>\n",
       "      <th>AppointmentDay</th>\n",
       "      <th>Age</th>\n",
       "      <th>Neighbourhood</th>\n",
       "      <th>Scholarship</th>\n",
       "      <th>Hypertension</th>\n",
       "      <th>Diabetes</th>\n",
       "      <th>Alcoholism</th>\n",
       "      <th>Handicap</th>\n",
       "      <th>SMSReceived</th>\n",
       "      <th>NoShow</th>\n",
       "    </tr>\n",
       "  </thead>\n",
       "  <tbody>\n",
       "    <tr>\n",
       "      <th>0</th>\n",
       "      <td>2.987250e+13</td>\n",
       "      <td>5642903</td>\n",
       "      <td>F</td>\n",
       "      <td>2016-04-29T18:38:08Z</td>\n",
       "      <td>2016-04-29T00:00:00Z</td>\n",
       "      <td>62</td>\n",
       "      <td>JARDIM DA PENHA</td>\n",
       "      <td>0</td>\n",
       "      <td>1</td>\n",
       "      <td>0</td>\n",
       "      <td>0</td>\n",
       "      <td>0</td>\n",
       "      <td>0</td>\n",
       "      <td>No</td>\n",
       "    </tr>\n",
       "  </tbody>\n",
       "</table>\n",
       "</div>"
      ],
      "text/plain": [
       "      PatientId  AppointmentID Gender          ScheduledDay  \\\n",
       "0  2.987250e+13        5642903      F  2016-04-29T18:38:08Z   \n",
       "\n",
       "         AppointmentDay  Age    Neighbourhood  Scholarship  Hypertension  \\\n",
       "0  2016-04-29T00:00:00Z   62  JARDIM DA PENHA            0             1   \n",
       "\n",
       "   Diabetes  Alcoholism  Handicap  SMSReceived NoShow  \n",
       "0         0           0         0            0     No  "
      ]
     },
     "execution_count": 11,
     "metadata": {},
     "output_type": "execute_result"
    }
   ],
   "source": [
    "# Renaming columns\n",
    "df.rename(columns={'SMS_received': 'SMSReceived', 'No-show': 'NoShow', 'Handcap':'Handicap', 'Hipertension':'Hypertension'}, inplace=True)\n",
    "df.head(1)"
   ]
  },
  {
   "cell_type": "code",
   "execution_count": 12,
   "metadata": {},
   "outputs": [
    {
     "data": {
      "text/plain": [
       "0      3540\n",
       "1      2273\n",
       "52     1746\n",
       "49     1652\n",
       "53     1651\n",
       "       ... \n",
       "98        6\n",
       "115       5\n",
       "100       4\n",
       "102       2\n",
       "99        1\n",
       "Name: Age, Length: 103, dtype: int64"
      ]
     },
     "execution_count": 12,
     "metadata": {},
     "output_type": "execute_result"
    }
   ],
   "source": [
    "# Replacing the age with -1 to 0 and confirming the change\n",
    "df['Age'].replace({-1: 0}, inplace=True)\n",
    "df.Age.value_counts()"
   ]
  },
  {
   "cell_type": "code",
   "execution_count": 13,
   "metadata": {},
   "outputs": [
    {
     "data": {
      "text/plain": [
       "PatientId                     float64\n",
       "AppointmentID                   int64\n",
       "Gender                         object\n",
       "ScheduledDay      datetime64[ns, UTC]\n",
       "AppointmentDay    datetime64[ns, UTC]\n",
       "Age                             int64\n",
       "Neighbourhood                  object\n",
       "Scholarship                     int64\n",
       "Hypertension                    int64\n",
       "Diabetes                        int64\n",
       "Alcoholism                      int64\n",
       "Handicap                        int64\n",
       "SMSReceived                     int64\n",
       "NoShow                         object\n",
       "dtype: object"
      ]
     },
     "execution_count": 13,
     "metadata": {},
     "output_type": "execute_result"
    }
   ],
   "source": [
    "# types of sheduledDay and AppointmentDay to datetime and confirming the change\n",
    "for column in ['ScheduledDay', 'AppointmentDay']: \n",
    "    df[column] = pd.to_datetime(df[column])\n",
    "df.dtypes"
   ]
  },
  {
   "cell_type": "code",
   "execution_count": 14,
   "metadata": {},
   "outputs": [
    {
     "data": {
      "text/plain": [
       "dtype('int64')"
      ]
     },
     "execution_count": 14,
     "metadata": {},
     "output_type": "execute_result"
    }
   ],
   "source": [
    "# NoShow column transformation\n",
    "df['NoShow'].replace({'No': 0, 'Yes': 1}, inplace=True)\n",
    "df.NoShow.dtypes"
   ]
  },
  {
   "cell_type": "markdown",
   "metadata": {},
   "source": [
    "<a id='eda'></a>\n",
    "## Exploratory Data Analysis"
   ]
  },
  {
   "cell_type": "code",
   "execution_count": 15,
   "metadata": {},
   "outputs": [],
   "source": [
    "# Understanding the NoShow column more"
   ]
  },
  {
   "cell_type": "code",
   "execution_count": 16,
   "metadata": {},
   "outputs": [
    {
     "data": {
      "text/plain": [
       "array([0, 1], dtype=int64)"
      ]
     },
     "execution_count": 16,
     "metadata": {},
     "output_type": "execute_result"
    }
   ],
   "source": [
    "# No show contains just two unique values with 0 meaning patient did not show up and 1 meaning patient showed up for their appointments\n",
    "df.NoShow.unique()"
   ]
  },
  {
   "cell_type": "code",
   "execution_count": 17,
   "metadata": {},
   "outputs": [
    {
     "data": {
      "text/plain": [
       "0    88208\n",
       "1    22319\n",
       "Name: NoShow, dtype: int64"
      ]
     },
     "execution_count": 17,
     "metadata": {},
     "output_type": "execute_result"
    }
   ],
   "source": [
    "# Just checking the number of patients who kept appointments and those who didnt. This might be useful durring the analyis\n",
    "df['NoShow'].value_counts()"
   ]
  },
  {
   "cell_type": "code",
   "execution_count": 18,
   "metadata": {},
   "outputs": [],
   "source": [
    "# First let's create a mask for rows where patients kept their appointment and rows where passengers did not keep their appointment.\n",
    "kept_appointment = df.NoShow == 1\n",
    "didnt_keep_appointment = df.NoShow == 0\n"
   ]
  },
  {
   "cell_type": "markdown",
   "metadata": {},
   "source": [
    "### <li>Was the attribute Age a factor in patients keeping thier appointments or not?</li>"
   ]
  },
  {
   "cell_type": "code",
   "execution_count": 19,
   "metadata": {},
   "outputs": [
    {
     "data": {
      "text/plain": [
       "34.31766656212196"
      ]
     },
     "execution_count": 19,
     "metadata": {},
     "output_type": "execute_result"
    }
   ],
   "source": [
    "# The mean age for those who kept their appointment.\n",
    "df.Age[kept_appointment].mean()\n"
   ]
  },
  {
   "cell_type": "code",
   "execution_count": 20,
   "metadata": {},
   "outputs": [
    {
     "data": {
      "text/plain": [
       "37.79007573009251"
      ]
     },
     "execution_count": 20,
     "metadata": {},
     "output_type": "execute_result"
    }
   ],
   "source": [
    "# The mean age for those who didn't kept their appointment\n",
    "df.Age[didnt_keep_appointment].mean()"
   ]
  },
  {
   "cell_type": "code",
   "execution_count": 21,
   "metadata": {},
   "outputs": [
    {
     "data": {
      "image/png": "[encoded data removed]",
      "text/plain": [
       "<Figure size 432x288 with 1 Axes>"
      ]
     },
     "metadata": {
      "needs_background": "light"
     },
     "output_type": "display_data"
    }
   ],
   "source": [
    "# Plotting a histogram to clearly see the mean distribution of patients who kept appointment and those who didn't.\n",
    "df.groupby(['NoShow'])['Age'].plot(kind='hist', title='Average Age groups by appointment decisions', alpha=0.5);\n",
    "plt.legend();"
   ]
  },
  {
   "cell_type": "markdown",
   "metadata": {},
   "source": [
    ">The above chart shows that more there are more people who did not keep thier appointments."
   ]
  },
  {
   "cell_type": "code",
   "execution_count": 22,
   "metadata": {},
   "outputs": [
    {
     "data": {
      "text/plain": [
       "37"
      ]
     },
     "execution_count": 22,
     "metadata": {},
     "output_type": "execute_result"
    }
   ],
   "source": [
    "# Let's also get the median age\n",
    "median_age = int(df['Age'].median())\n",
    "median_age"
   ]
  },
  {
   "cell_type": "code",
   "execution_count": 23,
   "metadata": {},
   "outputs": [],
   "source": [
    "# It is clear that a larger percentage of booked appointments who didn't show up for the appointmnet were from patients above the median age.\n",
    "# Looking at the Age data more closely to see the pe"
   ]
  },
  {
   "cell_type": "code",
   "execution_count": 24,
   "metadata": {},
   "outputs": [
    {
     "data": {
      "text/plain": [
       "37"
      ]
     },
     "execution_count": 24,
     "metadata": {},
     "output_type": "execute_result"
    }
   ],
   "source": [
    "# Getting the median age\n",
    "median_age = int(df['Age'].median())\n",
    "median_age"
   ]
  },
  {
   "cell_type": "code",
   "execution_count": 25,
   "metadata": {},
   "outputs": [],
   "source": [
    "# Grouping the ages based on the meidan age to have young and old patients\n",
    "young = df.query('Age < 37')\n",
    "old = df.query('Age >= 37')"
   ]
  },
  {
   "cell_type": "code",
   "execution_count": 26,
   "metadata": {},
   "outputs": [
    {
     "data": {
      "text/plain": [
       "54584"
      ]
     },
     "execution_count": 26,
     "metadata": {},
     "output_type": "execute_result"
    }
   ],
   "source": [
    "# How many patients fall under the young category of patients\n",
    "total_young_num = young.Age.count()\n",
    "total_young_num"
   ]
  },
  {
   "cell_type": "code",
   "execution_count": 27,
   "metadata": {},
   "outputs": [
    {
     "data": {
      "text/plain": [
       "0    42140\n",
       "1    12444\n",
       "Name: NoShow, dtype: int64"
      ]
     },
     "execution_count": 27,
     "metadata": {},
     "output_type": "execute_result"
    }
   ],
   "source": [
    "# From the young patients, how many showed up for their booked appointments and how many did not.\n",
    "young.NoShow.value_counts()"
   ]
  },
  {
   "cell_type": "code",
   "execution_count": 28,
   "metadata": {},
   "outputs": [
    {
     "data": {
      "image/png": "[encoded data removed]",
      "text/plain": [
       "<Figure size 432x288 with 1 Axes>"
      ]
     },
     "metadata": {
      "needs_background": "light"
     },
     "output_type": "display_data"
    }
   ],
   "source": [
    "# Visual representation of the result from cell above\n",
    "colour = ['purple', 'blue']\n",
    "young.NoShow.value_counts().plot(kind='barh', title='Young patients who showed up or not', color=colour);\n",
    "plt.xlabel('Count')\n",
    "plt.ylabel('Young Patients');"
   ]
  },
  {
   "cell_type": "code",
   "execution_count": 29,
   "metadata": {},
   "outputs": [
    {
     "data": {
      "text/plain": [
       "55943"
      ]
     },
     "execution_count": 29,
     "metadata": {},
     "output_type": "execute_result"
    }
   ],
   "source": [
    "# How many patients fall under the old category of patients\n",
    "total_old_num = old.Age.count()\n",
    "total_old_num"
   ]
  },
  {
   "cell_type": "code",
   "execution_count": 30,
   "metadata": {},
   "outputs": [
    {
     "data": {
      "text/plain": [
       "0    46068\n",
       "1     9875\n",
       "Name: NoShow, dtype: int64"
      ]
     },
     "execution_count": 30,
     "metadata": {},
     "output_type": "execute_result"
    }
   ],
   "source": [
    "# From the old patients category, how many showed up for their booked appointments and how many didn't\n",
    "old.NoShow.value_counts()"
   ]
  },
  {
   "cell_type": "code",
   "execution_count": 31,
   "metadata": {},
   "outputs": [
    {
     "data": {
      "image/png": "[encoded data removed]",
      "text/plain": [
       "<Figure size 432x288 with 1 Axes>"
      ]
     },
     "metadata": {
      "needs_background": "light"
     },
     "output_type": "display_data"
    }
   ],
   "source": [
    "# visual representation of the above cell\n",
    "colour = ['brown', 'blue']\n",
    "old.NoShow.value_counts().plot(kind='barh', title='Old patients who showed up or not', color=colour);\n",
    "plt.xlabel('Count')\n",
    "plt.ylabel('Old Patients');"
   ]
  },
  {
   "cell_type": "code",
   "execution_count": 32,
   "metadata": {},
   "outputs": [],
   "source": [
    "# Percentage turn out for appointment from the old patient category"
   ]
  },
  {
   "cell_type": "code",
   "execution_count": 33,
   "metadata": {},
   "outputs": [
    {
     "data": {
      "text/plain": [
       "17.65"
      ]
     },
     "execution_count": 33,
     "metadata": {},
     "output_type": "execute_result"
    }
   ],
   "source": [
    "# percentage from old patient category that showed up\n",
    "old_showed = ((old.NoShow.value_counts()[1]/total_old_num)*100).round(2)\n",
    "old_showed"
   ]
  },
  {
   "cell_type": "code",
   "execution_count": 34,
   "metadata": {},
   "outputs": [
    {
     "data": {
      "text/plain": [
       "82.35"
      ]
     },
     "execution_count": 34,
     "metadata": {},
     "output_type": "execute_result"
    }
   ],
   "source": [
    "# percentage from old patient category that did not show up\n",
    "old_no_show = ((old.NoShow.value_counts()[0]/total_old_num)*100).round(2)\n",
    "old_no_show"
   ]
  },
  {
   "cell_type": "code",
   "execution_count": 35,
   "metadata": {},
   "outputs": [],
   "source": [
    "def bar_plot(height1, height2, x_label, y_label, bar_title, color):\n",
    "    \"\"\"\n",
    "    This function plots a bar chart using the locations, height, and tick label from colour list. The funtion also allows the title of the bar chart, the x label and y label to be displayed.\n",
    "    \"\"\"\n",
    "    height = [height1, height2]\n",
    "    labels = [label1, label2]\n",
    "    locations=[1,2]\n",
    "    plot = plt.bar(locations, height, tick_label=labels, color=colour)    \n",
    "    plt.xlabel(x_label)\n",
    "    plt.ylabel(y_label)\n",
    "    plt.title(bar_title)\n",
    "    return plot"
   ]
  },
  {
   "cell_type": "code",
   "execution_count": 38,
   "metadata": {},
   "outputs": [
    {
     "data": {
      "image/png": "[encoded data removed]",
      "text/plain": [
       "<Figure size 432x288 with 1 Axes>"
      ]
     },
     "metadata": {
      "needs_background": "light"
     },
     "output_type": "display_data"
    }
   ],
   "source": [
    "# Visual representation by percentage of the relationship between old patients and their appointment decisions\n",
    "height1 = old_showed\n",
    "height2 = old_no_show\n",
    "label1 = 'Show'\n",
    "label2 = 'No Show'\n",
    "color = ['blue', 'pink']\n",
    "bar_title = 'Appointment decisions of old patients in percentage'\n",
    "x_label = 'Appointment'\n",
    "y_label = 'Age'\n",
    "bar_plot(height1, height2, x_label, y_label, bar_title, color);"
   ]
  },
  {
   "cell_type": "markdown",
   "metadata": {},
   "source": [
    "> The percentage of old patients who showed up is way smaller (17.65) than that of old patients who did not show up (82.35)"
   ]
  },
  {
   "cell_type": "code",
   "execution_count": 39,
   "metadata": {},
   "outputs": [],
   "source": [
    "# Percentage turn out for appointment from the young patient category"
   ]
  },
  {
   "cell_type": "code",
   "execution_count": 40,
   "metadata": {},
   "outputs": [
    {
     "data": {
      "text/plain": [
       "22.8"
      ]
     },
     "execution_count": 40,
     "metadata": {},
     "output_type": "execute_result"
    }
   ],
   "source": [
    "# percentage from young patient category that showed up\n",
    "young_showed = ((young.NoShow.value_counts()[1]/total_young_num)*100).round(2)\n",
    "young_showed"
   ]
  },
  {
   "cell_type": "code",
   "execution_count": 41,
   "metadata": {},
   "outputs": [
    {
     "data": {
      "text/plain": [
       "77.2"
      ]
     },
     "execution_count": 41,
     "metadata": {},
     "output_type": "execute_result"
    }
   ],
   "source": [
    "# percentage from young patient category that did not showed up\n",
    "young_no_show = ((young.NoShow.value_counts()[0]/total_young_num)*100).round(2)\n",
    "young_no_show"
   ]
  },
  {
   "cell_type": "code",
   "execution_count": 43,
   "metadata": {},
   "outputs": [
    {
     "data": {
      "image/png": "[encoded data removed]",
      "text/plain": [
       "<Figure size 432x288 with 1 Axes>"
      ]
     },
     "metadata": {
      "needs_background": "light"
     },
     "output_type": "display_data"
    }
   ],
   "source": [
    "# Visual representation by percentage of the relationship between young patients and their appointment decisions\n",
    "color = ['#E8B4B8', '#67595E']\n",
    "height1 = young_showed\n",
    "height2 = young_no_show\n",
    "label1 = 'Show'\n",
    "label2 = 'No Show'\n",
    "bar_title = 'Appointment decisions of young patients in percentage '\n",
    "x_label = 'Appointment'\n",
    "y_label = 'Age'\n",
    "bar_plot(height1, height2, x_label, y_label, bar_title, color);"
   ]
  },
  {
   "cell_type": "markdown",
   "metadata": {},
   "source": [
    "> The percentage of young patients who showed up is way smaller (22.8) than that of old patients who did not show up (77.2), though the turn out for appointment is better amongst the youger patients."
   ]
  },
  {
   "cell_type": "code",
   "execution_count": 44,
   "metadata": {},
   "outputs": [
    {
     "data": {
      "text/plain": [
       "20.23"
      ]
     },
     "execution_count": 44,
     "metadata": {},
     "output_type": "execute_result"
    }
   ],
   "source": [
    "# Finding the mean of the percentage of young patients who showed up and the percentage of old patients that showed up in order to determine the standard deviations.\n",
    "mean_young_old_showed_up = ((young_showed + old_showed)/2).round(2)\n",
    "mean_young_old_showed_up"
   ]
  },
  {
   "cell_type": "code",
   "execution_count": 45,
   "metadata": {},
   "outputs": [],
   "source": [
    "# Finding the standard deviation both yount and old patients show showed up"
   ]
  },
  {
   "cell_type": "code",
   "execution_count": 46,
   "metadata": {},
   "outputs": [
    {
     "data": {
      "text/plain": [
       "2.57"
      ]
     },
     "execution_count": 46,
     "metadata": {},
     "output_type": "execute_result"
    }
   ],
   "source": [
    "# Standard deviation of young patients that showed up\n",
    "(mean_young_old_showed_up - young_showed).round(2)*-1"
   ]
  },
  {
   "cell_type": "code",
   "execution_count": 47,
   "metadata": {},
   "outputs": [
    {
     "data": {
      "text/plain": [
       "2.58"
      ]
     },
     "execution_count": 47,
     "metadata": {},
     "output_type": "execute_result"
    }
   ],
   "source": [
    "# Standard deviation of old patients that showed up\n",
    "(mean_young_old_showed_up - old_showed).round(2)"
   ]
  },
  {
   "cell_type": "code",
   "execution_count": 48,
   "metadata": {},
   "outputs": [],
   "source": [
    "# The standard deviation shows that the probability of occurance of young people showing up for booked appointments is higher that that of old people showing up for booked appointments."
   ]
  },
  {
   "cell_type": "code",
   "execution_count": 49,
   "metadata": {},
   "outputs": [],
   "source": [
    "# Using correlation analysis to verity the results obtained from the standard deviations"
   ]
  },
  {
   "cell_type": "code",
   "execution_count": 50,
   "metadata": {},
   "outputs": [
    {
     "data": {
      "text/plain": [
       "-0.05"
      ]
     },
     "execution_count": 50,
     "metadata": {},
     "output_type": "execute_result"
    }
   ],
   "source": [
    "# correlation between old patients and showing up\n",
    "(old.Age.corr(kept_appointment)).round(2)"
   ]
  },
  {
   "cell_type": "code",
   "execution_count": 51,
   "metadata": {},
   "outputs": [
    {
     "data": {
      "text/plain": [
       "0.03"
      ]
     },
     "execution_count": 51,
     "metadata": {},
     "output_type": "execute_result"
    }
   ],
   "source": [
    "# correlation between young patients and showing up\n",
    "(young.Age.corr(kept_appointment)).round(2)"
   ]
  },
  {
   "cell_type": "markdown",
   "metadata": {},
   "source": [
    "### Discussion on Age"
   ]
  },
  {
   "cell_type": "markdown",
   "metadata": {},
   "source": [
    ">The mean distribution of ages of patients was gotten for appointments that were kept and appointments not kept. This gave a clue that patients who did not keep to appointents were older. The age data was split into two categories i.e young patients and old patients based on the median age to see if being young or old contributed to patients keeping their appointments or not. \n",
    "\n",
    ">A totlal of 110,527 appointment were booked by 62,299 patients. From the age category, a total of 55,943 patients fell under the old pateint category and total of 54,584 fell under the young patient category.\n",
    "\n",
    "\n",
    ">Out of the 55,943 old patients, a total of 46,068 patients did not show up for their appointments. That is 82.35% of the total, with just 9,875 of them showing up which is 17.65% of them. \n",
    ">Also, from the 54,584 patients who fell under the young patient category, only 12,444 showed up for their appointments which is 22.8% of the total and 42,140 of them did not show up which is 77.2%.\n",
    "\n",
    ">When considering the percentage of young patients who showed up for appointments to that of old patients who showd up for appointments, the percentage of the young patients were higher, indicating that young patients are likely to show up more for appointment.\n",
    ">The standard deviations for young patients who showed up (2.57) and old patients who showed up was also determined (2.58). The result also butressed the point that young peope are more likely to show up for appointments than old patients.\n",
    ">Finally, to see how strongly related being young or old was with patients' decisions to show up or not, the correlation between young patients showing up and old patients showing up was also determined and the result showed that youn patients showing up had a positive correlation value of 0.03 and old patients showing up a negative correlation value of -0.05, indicating that the younger the patients were, the more likely they were to show up for booked appointments. These all point to the fact that Age should be considered as a factor in determining if patients will show up for appointments or not."
   ]
  },
  {
   "cell_type": "markdown",
   "metadata": {},
   "source": [
    "### <li>Was Scholarship a factor in patients keeping thier appointments or not?</li>"
   ]
  },
  {
   "cell_type": "code",
   "execution_count": 52,
   "metadata": {},
   "outputs": [
    {
     "data": {
      "text/plain": [
       "0    99666\n",
       "1    10861\n",
       "Name: Scholarship, dtype: int64"
      ]
     },
     "execution_count": 52,
     "metadata": {},
     "output_type": "execute_result"
    }
   ],
   "source": [
    "# Total number of patients on scholarship or not.\n",
    "total_sholarship_decisions = df['Scholarship'].value_counts()\n",
    "total_sholarship_decisions"
   ]
  },
  {
   "cell_type": "code",
   "execution_count": 53,
   "metadata": {},
   "outputs": [],
   "source": [
    "# There is a total of 99,666 patients not on the scholarship scheme and just 10,861 patients on the scholarship scheme"
   ]
  },
  {
   "cell_type": "code",
   "execution_count": 54,
   "metadata": {},
   "outputs": [
    {
     "data": {
      "image/png": "[encoded data removed]",
      "text/plain": [
       "<Figure size 432x288 with 1 Axes>"
      ]
     },
     "metadata": {
      "needs_background": "light"
     },
     "output_type": "display_data"
    }
   ],
   "source": [
    "# Let's look at this number above visually \n",
    "colour = ['blue', 'green']\n",
    "df['Scholarship'].value_counts().plot(kind='bar', color = colour);\n",
    "plt.title('Numer of patients on scholarship or not');\n",
    "plt.xlabel('Scholarship Status');\n",
    "plt.ylabel('Count');"
   ]
  },
  {
   "cell_type": "markdown",
   "metadata": {},
   "source": [
    "> Hence there are more patients not on the sholarship scheme. "
   ]
  },
  {
   "cell_type": "code",
   "execution_count": 56,
   "metadata": {},
   "outputs": [
    {
     "data": {
      "text/plain": [
       "NoShow  Scholarship\n",
       "0       0              79925\n",
       "        1               8283\n",
       "1       0              19741\n",
       "        1               2578\n",
       "Name: Scholarship, dtype: int64"
      ]
     },
     "execution_count": 56,
     "metadata": {},
     "output_type": "execute_result"
    }
   ],
   "source": [
    "# Let's now look at patients appointment decisions to show up or not, based on whether they were enrolled into the scholarship scheme.\n",
    "df.groupby(['NoShow'])['Scholarship'].value_counts()"
   ]
  },
  {
   "cell_type": "code",
   "execution_count": 57,
   "metadata": {},
   "outputs": [],
   "source": [
    "# This shows that out of the 99,666 bookings for appointments relating to patients not on the scholarship scheme, 79,925 booked appointments did not show up and 19,741 showed up.\n",
    "# Also, out of just 10861 booked appointments relating to patients on the scholarship scheme, 8,283 did not show up and 2,578 showed up."
   ]
  },
  {
   "cell_type": "code",
   "execution_count": 58,
   "metadata": {},
   "outputs": [
    {
     "data": {
      "image/png": "[encoded data removed]",
      "text/plain": [
       "<Figure size 432x288 with 1 Axes>"
      ]
     },
     "metadata": {
      "needs_background": "light"
     },
     "output_type": "display_data"
    }
   ],
   "source": [
    "# Let's see this visuallly\n",
    "label=['Show', 'No Show']\n",
    "df.groupby(['NoShow'])['Scholarship'].plot(kind='hist', title='Scholarship by appointment decisions', alpha=0.5);\n",
    "plt.xlabel('Patient show decision')\n",
    "plt.legend();"
   ]
  },
  {
   "cell_type": "markdown",
   "metadata": {},
   "source": [
    ">Percentage of patients in the sholarship or not and if they showed up or no"
   ]
  },
  {
   "cell_type": "code",
   "execution_count": 60,
   "metadata": {},
   "outputs": [
    {
     "data": {
      "text/plain": [
       "0    79925\n",
       "1    19741\n",
       "Name: NoShow, dtype: int64"
      ]
     },
     "execution_count": 60,
     "metadata": {},
     "output_type": "execute_result"
    }
   ],
   "source": [
    "# Appointment decisions based on no scholarship\n",
    "no_scholarship = df.query('Scholarship == 0')\n",
    "no_scholarship.NoShow.value_counts()"
   ]
  },
  {
   "cell_type": "code",
   "execution_count": 61,
   "metadata": {},
   "outputs": [
    {
     "data": {
      "text/plain": [
       "19.81"
      ]
     },
     "execution_count": 61,
     "metadata": {},
     "output_type": "execute_result"
    }
   ],
   "source": [
    "# Percentage of those not on scholarship who kept their appointments\n",
    "no_sch_show = ((no_scholarship.NoShow.value_counts()[1]/total_sholarship_decisions[0])*100).round(2)\n",
    "no_sch_show"
   ]
  },
  {
   "cell_type": "code",
   "execution_count": 62,
   "metadata": {},
   "outputs": [
    {
     "data": {
      "text/plain": [
       "80.19"
      ]
     },
     "execution_count": 62,
     "metadata": {},
     "output_type": "execute_result"
    }
   ],
   "source": [
    "# Percentage of those not on scholarship who did not keep their appointments\n",
    "no_sch_no_show = ((no_scholarship.NoShow.value_counts()[0]/total_sholarship_decisions[0])*100).round(2)\n",
    "no_sch_no_show"
   ]
  },
  {
   "cell_type": "code",
   "execution_count": 63,
   "metadata": {},
   "outputs": [
    {
     "data": {
      "image/png": "[encoded data removed]",
      "text/plain": [
       "<Figure size 432x288 with 1 Axes>"
      ]
     },
     "metadata": {
      "needs_background": "light"
     },
     "output_type": "display_data"
    }
   ],
   "source": [
    "# Visual representation by percentage of the relationship between patients not on scholarship and their appointment decisions\n",
    "colour = ['#E56997', '#4C5270']\n",
    "height1 = no_sch_show\n",
    "height2 = no_sch_no_show\n",
    "label1 = 'Show'\n",
    "label2 = 'No Show'\n",
    "bar_title = 'Appointment decisions of patients not on scholarship by percentage '\n",
    "plt.x_label = 'Appointment'\n",
    "y_label = 'Scholarships'\n",
    "bar_plot(height1, height2, x_label, y_label, bar_title, color);"
   ]
  },
  {
   "cell_type": "code",
   "execution_count": 64,
   "metadata": {},
   "outputs": [
    {
     "data": {
      "text/plain": [
       "0    8283\n",
       "1    2578\n",
       "Name: NoShow, dtype: int64"
      ]
     },
     "execution_count": 64,
     "metadata": {},
     "output_type": "execute_result"
    }
   ],
   "source": [
    "# Appointment decisions based on having scholarship scholarship\n",
    "have_scholarship = df.query('Scholarship == 1')\n",
    "have_scholarship.NoShow.value_counts()"
   ]
  },
  {
   "cell_type": "code",
   "execution_count": 65,
   "metadata": {},
   "outputs": [
    {
     "data": {
      "text/plain": [
       "23.74"
      ]
     },
     "execution_count": 65,
     "metadata": {},
     "output_type": "execute_result"
    }
   ],
   "source": [
    "# Percentage of those on scholarship who kept their appointments\n",
    "sch_show = ((have_scholarship.NoShow.value_counts()[1]/total_sholarship_decisions[1])*100).round(2)\n",
    "sch_show"
   ]
  },
  {
   "cell_type": "code",
   "execution_count": 66,
   "metadata": {},
   "outputs": [
    {
     "data": {
      "text/plain": [
       "76.26"
      ]
     },
     "execution_count": 66,
     "metadata": {},
     "output_type": "execute_result"
    }
   ],
   "source": [
    "# Percentage of those on scholarship who did not show up for their appointments\n",
    "sch_no_show = ((have_scholarship.NoShow.value_counts()[0]/total_sholarship_decisions[1])*100).round(2)\n",
    "sch_no_show"
   ]
  },
  {
   "cell_type": "code",
   "execution_count": 67,
   "metadata": {},
   "outputs": [
    {
     "data": {
      "image/png": "[encoded data removed]",
      "text/plain": [
       "<Figure size 432x288 with 1 Axes>"
      ]
     },
     "metadata": {
      "needs_background": "light"
     },
     "output_type": "display_data"
    }
   ],
   "source": [
    "# Visual representation by percentage of the relationship between patients on scholarship and their appointment decisions\n",
    "colour = ['#E56997', '#4C5270']\n",
    "height1 = sch_show\n",
    "height2 = sch_no_show\n",
    "label1 = 'Show'\n",
    "label2 = 'No Show'\n",
    "bar_title = 'Appointment decisions of patients on scholarship by percentage'\n",
    "x_label = 'Appointment'\n",
    "y_label = 'Scholarships'\n",
    "bar_plot(height1, height2, x_label, y_label, bar_title, color);"
   ]
  },
  {
   "cell_type": "markdown",
   "metadata": {},
   "source": [
    "### Discussion on Scholarhip"
   ]
  },
  {
   "cell_type": "markdown",
   "metadata": {},
   "source": [
    ">Similar to the age attribute, the total number of patients according to thier apointments was found, with a total of 99,666 not on sholarship and 10,861 on scholarship.\n",
    "\n",
    ">Out of the 99,666 patients not on scholarship, 79,925 of them did not keep their appointments (80.19%) while 19,741 kept appointments(19.81%).\n",
    ">Also, from the 10,861 patients who were on scholarship, 8,283 did not keep thier appointment (76.26%) wile 2,578 kept their appointments (23.74%).\n",
    ">The proportions in percentage of patients who kept appointments and those who did not based on if they were on scholarship or not was also found. \n",
    "\n",
    ">The proportions in percentage of patients who did not keep thier appointmets regardless of either being on sholarship or not is higher than the proportions in percentage of patients who kept appointments regardless of their being in a scholarship scheme. This would want to make the scholarship attribute an insignificant factor but when the percentge of those on sholarship sheme who kept thier appointments (23.74%) is compared with those not on sholarship scheme who also kept their appointments (19.81%) , scholarship scheme is an important attribute, hence sholarship attribute should be included as a significant factor in predicting where patients whould show up for their appointments or not."
   ]
  },
  {
   "cell_type": "markdown",
   "metadata": {},
   "source": [
    "### <li>How related is Age and Scholarship in regards to patients decision to show up or not?</li>"
   ]
  },
  {
   "cell_type": "code",
   "execution_count": 68,
   "metadata": {},
   "outputs": [],
   "source": [
    "# Since more young patients turned out for their appointments, were they considered more for the scholarship?"
   ]
  },
  {
   "cell_type": "code",
   "execution_count": 69,
   "metadata": {},
   "outputs": [
    {
     "data": {
      "text/plain": [
       "Scholarship  NoShow\n",
       "0            0         42787\n",
       "             1          8963\n",
       "1            0          3281\n",
       "             1           912\n",
       "Name: NoShow, dtype: int64"
      ]
     },
     "execution_count": 69,
     "metadata": {},
     "output_type": "execute_result"
    }
   ],
   "source": [
    "# Old patients on scholarship or not by how many turned out for their appointment or not.\n",
    "old.groupby(['Scholarship'])['NoShow'].value_counts()"
   ]
  },
  {
   "cell_type": "code",
   "execution_count": 70,
   "metadata": {},
   "outputs": [
    {
     "data": {
      "text/plain": [
       "NoShow\n",
       "0    3281\n",
       "1     912\n",
       "Name: NoShow, dtype: int64"
      ]
     },
     "execution_count": 70,
     "metadata": {},
     "output_type": "execute_result"
    }
   ],
   "source": [
    "# Old patients ON SCHOLARSHIP by how many turned out for their appointment or not.\n",
    "old_on_sch = old.groupby(['Scholarship'])['NoShow'].value_counts()[1]\n",
    "old_on_sch"
   ]
  },
  {
   "cell_type": "code",
   "execution_count": 71,
   "metadata": {},
   "outputs": [
    {
     "data": {
      "text/plain": [
       "4193"
      ]
     },
     "execution_count": 71,
     "metadata": {},
     "output_type": "execute_result"
    }
   ],
   "source": [
    "# Total old patients ON SCHOLARSHIP\n",
    "total_old_patients_onsch = old_on_sch.sum()\n",
    "total_old_patients_onsch"
   ]
  },
  {
   "cell_type": "code",
   "execution_count": 72,
   "metadata": {},
   "outputs": [
    {
     "data": {
      "text/plain": [
       "NoShow\n",
       "0    42787\n",
       "1     8963\n",
       "Name: NoShow, dtype: int64"
      ]
     },
     "execution_count": 72,
     "metadata": {},
     "output_type": "execute_result"
    }
   ],
   "source": [
    "# Old patients NOT ON SCHOLARSHIP by how many turned out for their appointment or not.\n",
    "old_nosch = old.groupby(['Scholarship'])['NoShow'].value_counts()[0]\n",
    "old_nosch"
   ]
  },
  {
   "cell_type": "code",
   "execution_count": 73,
   "metadata": {},
   "outputs": [
    {
     "data": {
      "text/plain": [
       "51750"
      ]
     },
     "execution_count": 73,
     "metadata": {},
     "output_type": "execute_result"
    }
   ],
   "source": [
    "# Total old patients NOT ON SCHOLARSHIP\n",
    "total_old_patients_no_sch = old_nosch.sum()\n",
    "total_old_patients_no_sch"
   ]
  },
  {
   "cell_type": "code",
   "execution_count": 74,
   "metadata": {},
   "outputs": [
    {
     "data": {
      "text/plain": [
       "21.75"
      ]
     },
     "execution_count": 74,
     "metadata": {},
     "output_type": "execute_result"
    }
   ],
   "source": [
    "# Percentage of old patients ON SCHOLARSHIP BUT SHOWED UP for booked appointments.\n",
    "old_on_sch_showed = ((old_on_sch[1]/total_old_patients_onsch)*100).round(2)\n",
    "old_on_sch_showed"
   ]
  },
  {
   "cell_type": "code",
   "execution_count": 75,
   "metadata": {},
   "outputs": [
    {
     "data": {
      "text/plain": [
       "78.25"
      ]
     },
     "execution_count": 75,
     "metadata": {},
     "output_type": "execute_result"
    }
   ],
   "source": [
    "# Percentage of old patients ON SCHOLARSHIP BUT DID NOT SHOWED UP for booked appointments.\n",
    "((old_on_sch[0]/total_old_patients_onsch)*100).round(2)"
   ]
  },
  {
   "cell_type": "code",
   "execution_count": 76,
   "metadata": {},
   "outputs": [
    {
     "data": {
      "text/plain": [
       "17.32"
      ]
     },
     "execution_count": 76,
     "metadata": {},
     "output_type": "execute_result"
    }
   ],
   "source": [
    "# Percentage of old patients NOT ON SCHOLARSHIP BUT SHOWED UP for booked appointments.\n",
    "old_nosch_showed = ((old_nosch[1]/total_old_patients_no_sch)*100).round(2)\n",
    "old_nosch_showed"
   ]
  },
  {
   "cell_type": "code",
   "execution_count": 77,
   "metadata": {},
   "outputs": [
    {
     "data": {
      "text/plain": [
       "82.68"
      ]
     },
     "execution_count": 77,
     "metadata": {},
     "output_type": "execute_result"
    }
   ],
   "source": [
    "# Percentage of old patients NOT ON SCHOLARSHIP BUT DID NOT SHOWED UP for booked appointments.\n",
    "((old_nosch[0]/total_old_patients_no_sch)*100).round(2)"
   ]
  },
  {
   "cell_type": "code",
   "execution_count": 78,
   "metadata": {},
   "outputs": [
    {
     "data": {
      "text/plain": [
       "Scholarship  NoShow\n",
       "0            0         37138\n",
       "             1         10778\n",
       "1            0          5002\n",
       "             1          1666\n",
       "Name: NoShow, dtype: int64"
      ]
     },
     "execution_count": 78,
     "metadata": {},
     "output_type": "execute_result"
    }
   ],
   "source": [
    "# Young patients ON SCHOLARSHIP by how many turned out for their appointment or not.\n",
    "young.groupby(['Scholarship'])['NoShow'].value_counts()"
   ]
  },
  {
   "cell_type": "code",
   "execution_count": 79,
   "metadata": {},
   "outputs": [
    {
     "data": {
      "text/plain": [
       "NoShow\n",
       "0    5002\n",
       "1    1666\n",
       "Name: NoShow, dtype: int64"
      ]
     },
     "execution_count": 79,
     "metadata": {},
     "output_type": "execute_result"
    }
   ],
   "source": [
    "# Young patients ON SCHOLARSHIP by how many turned out for their appointment or not.\n",
    "young_on_sch = young.groupby(['Scholarship'])['NoShow'].value_counts()[1]\n",
    "young_on_sch"
   ]
  },
  {
   "cell_type": "code",
   "execution_count": 80,
   "metadata": {},
   "outputs": [
    {
     "data": {
      "text/plain": [
       "6668"
      ]
     },
     "execution_count": 80,
     "metadata": {},
     "output_type": "execute_result"
    }
   ],
   "source": [
    "# Total young patients ON SCHOLARSHIP\n",
    "total_young_patients_onsch = young_on_sch.sum()\n",
    "total_young_patients_onsch"
   ]
  },
  {
   "cell_type": "code",
   "execution_count": 81,
   "metadata": {},
   "outputs": [
    {
     "data": {
      "text/plain": [
       "NoShow\n",
       "0    37138\n",
       "1    10778\n",
       "Name: NoShow, dtype: int64"
      ]
     },
     "execution_count": 81,
     "metadata": {},
     "output_type": "execute_result"
    }
   ],
   "source": [
    "# Young patients NOT ON SCHOLARSHIP by how many turned out for their appointment or not.\n",
    "young_nosch = young.groupby(['Scholarship'])['NoShow'].value_counts()[0]\n",
    "young_nosch"
   ]
  },
  {
   "cell_type": "code",
   "execution_count": 82,
   "metadata": {},
   "outputs": [
    {
     "data": {
      "text/plain": [
       "47916"
      ]
     },
     "execution_count": 82,
     "metadata": {},
     "output_type": "execute_result"
    }
   ],
   "source": [
    "# Total young patients NOT ON SCHOLARSHIP\n",
    "total_young_patients_no_sch = young_nosch.sum()\n",
    "total_young_patients_no_sch"
   ]
  },
  {
   "cell_type": "code",
   "execution_count": 83,
   "metadata": {},
   "outputs": [
    {
     "data": {
      "text/plain": [
       "24.99"
      ]
     },
     "execution_count": 83,
     "metadata": {},
     "output_type": "execute_result"
    }
   ],
   "source": [
    "# Percentage of young patients ON SCHOLARSHIP BUT SHOWED UP for booked appointments.\n",
    "young_on_sch_showed = ((young_on_sch[1]/total_young_patients_onsch)*100).round(2)\n",
    "young_on_sch_showed"
   ]
  },
  {
   "cell_type": "code",
   "execution_count": 84,
   "metadata": {},
   "outputs": [
    {
     "data": {
      "text/plain": [
       "75.01"
      ]
     },
     "execution_count": 84,
     "metadata": {},
     "output_type": "execute_result"
    }
   ],
   "source": [
    "# Percentage of young patients ON SCHOLARSHIP BUT DID NOT SHOWED UP for booked appointments.\n",
    "((young_on_sch[0]/total_young_patients_onsch)*100).round(2)"
   ]
  },
  {
   "cell_type": "code",
   "execution_count": 85,
   "metadata": {},
   "outputs": [
    {
     "data": {
      "text/plain": [
       "22.49"
      ]
     },
     "execution_count": 85,
     "metadata": {},
     "output_type": "execute_result"
    }
   ],
   "source": [
    "# Percentage of young patients NOT ON SCHOLARSHIP BUT SHOWED UP for booked appointments.\n",
    "young_nosch_showed = ((young_nosch[1]/total_young_patients_no_sch)*100).round(2)\n",
    "young_nosch_showed"
   ]
  },
  {
   "cell_type": "code",
   "execution_count": 86,
   "metadata": {},
   "outputs": [
    {
     "data": {
      "text/plain": [
       "77.51"
      ]
     },
     "execution_count": 86,
     "metadata": {},
     "output_type": "execute_result"
    }
   ],
   "source": [
    "# Percentage of young patients NOT ON SCHOLARSHIP BUT DID NOT SHOWED UP for booked appointments.\n",
    "((young_nosch[0]/total_young_patients_no_sch)*100).round(2)"
   ]
  },
  {
   "cell_type": "code",
   "execution_count": 87,
   "metadata": {},
   "outputs": [
    {
     "data": {
      "image/png": "[encoded data removed]",
      "text/plain": [
       "<Figure size 576x576 with 2 Axes>"
      ]
     },
     "metadata": {
      "needs_background": "light"
     },
     "output_type": "display_data"
    }
   ],
   "source": [
    "# Getting the correlation coefficients between attributes \n",
    "plt.figure(figsize=(8,8))\n",
    "sns.heatmap(df.corr(), annot=True, cmap='coolwarm');"
   ]
  },
  {
   "cell_type": "code",
   "execution_count": 88,
   "metadata": {},
   "outputs": [
    {
     "data": {
      "text/plain": [
       "23.37"
      ]
     },
     "execution_count": 88,
     "metadata": {},
     "output_type": "execute_result"
    }
   ],
   "source": [
    "# Checking for the standard deviations of young patients on scholarship and old patients on scholarship who showed up for appointments\n",
    "mean_onsho_showed = ((young_on_sch_showed + old_on_sch_showed)/2).round(2)\n",
    "mean_onsho_showed"
   ]
  },
  {
   "cell_type": "code",
   "execution_count": 89,
   "metadata": {},
   "outputs": [
    {
     "data": {
      "text/plain": [
       "1.62"
      ]
     },
     "execution_count": 89,
     "metadata": {},
     "output_type": "execute_result"
    }
   ],
   "source": [
    "# The standard deviation of young patients on scholarship\n",
    "(((mean_onsho_showed - young_on_sch_showed))*-1).round(2)"
   ]
  },
  {
   "cell_type": "code",
   "execution_count": 90,
   "metadata": {},
   "outputs": [
    {
     "data": {
      "text/plain": [
       "1.62"
      ]
     },
     "execution_count": 90,
     "metadata": {},
     "output_type": "execute_result"
    }
   ],
   "source": [
    "# The standard deviation of old patients on scholarship\n",
    "(mean_onsho_showed - old_on_sch_showed).round(2)"
   ]
  },
  {
   "cell_type": "code",
   "execution_count": 91,
   "metadata": {},
   "outputs": [
    {
     "data": {
      "text/plain": [
       "19.9"
      ]
     },
     "execution_count": 91,
     "metadata": {},
     "output_type": "execute_result"
    }
   ],
   "source": [
    "# Checking for the standard deviations of young patients not on scholarship and old patients not on scholarship who showed up for appointments\n",
    "mean_nosho_showed = ((young_nosch_showed + old_nosch_showed)/2).round(2)\n",
    "mean_nosho_showed"
   ]
  },
  {
   "cell_type": "code",
   "execution_count": 92,
   "metadata": {},
   "outputs": [
    {
     "data": {
      "text/plain": [
       "2.59"
      ]
     },
     "execution_count": 92,
     "metadata": {},
     "output_type": "execute_result"
    }
   ],
   "source": [
    "# The standard deviation of young patients not on scholarship\n",
    "(mean_nosho_showed -young_nosch_showed)*-1"
   ]
  },
  {
   "cell_type": "code",
   "execution_count": 93,
   "metadata": {},
   "outputs": [
    {
     "data": {
      "text/plain": [
       "2.58"
      ]
     },
     "execution_count": 93,
     "metadata": {},
     "output_type": "execute_result"
    }
   ],
   "source": [
    "# The standard deviation of old patients not on scholarship\n",
    "((mean_nosho_showed - old_nosch_showed)).round(2)"
   ]
  },
  {
   "cell_type": "markdown",
   "metadata": {},
   "source": [
    "## Discussion on Age and Scholarhip Relationship in regards to patients showing up for booked appointments"
   ]
  },
  {
   "cell_type": "markdown",
   "metadata": {},
   "source": [
    ">The following results were gotten after looking into the relationship between age and scholarship and how it affects patients turn up for their appointmnts or not.\n",
    ">Total old patients on scholarship -- 4,193\n",
    ">Total young patients on scholarship -- 6,668\n",
    ">Result in percentages for patients either young or old, on sholarship or not and whether they showed up for appointments or not.\n",
    "><li>Young-on scholarship-no show -- 75.01%</li>\n",
    "><li>Old-on scholarship-no show -- 78.21%</li>\n",
    "\n",
    "><li>Young-on scholarship-show -- 24.99%, STD -- 1.62</li>\n",
    "><li>Old-on scholarship-show -- 21.75%, STD -- 1.62</li>\n",
    "\n",
    "><li>Young-no scholarship-show -- 22.49%, STD -- 2.59</li>\n",
    "><li>Old-no scholarship-show -- 17.32%, STD -- 2.58</li>\n",
    "\n",
    "><li>Young-no scholarship-no show -- 75.51%</li>\n",
    "><li>Old-no scholarship-no show -- 82.68</li>\n",
    "\n",
    ">The above results show that there are more young patients on scholarship than the older patients but there is no difference in the turn out of patients for their appointments regardless of thier ages for both the young and old on scholarship as indicated by their standard deviations. For patients who were not on scholarship, older pateints were more likely to show up for appointments than younger patients as indicated by their standard deviations. This might be as a result of older patients needing more healt attention due to havine more health(Handicap) challenges. There is therefore no significant relationship between age and scholarship as all patients on scholarship come for appointments, either young or old, and those not on scholarship come regardless as long as it is needed especially the older ones who in actual sense, are not as priviledged with the scholarship scheme like the young patients. Age and Scholarship attributes should both be treated as unique attributes. The pearson correlation is in agreement as it returned a negative correlation value of -0.092 indicating no positive relationship between age and scholarship."
   ]
  },
  {
   "cell_type": "markdown",
   "metadata": {},
   "source": [
    "### <li>Was the attribute SMSReceived a factor in patients keeping their appointments or not?</li>"
   ]
  },
  {
   "cell_type": "code",
   "execution_count": 94,
   "metadata": {},
   "outputs": [],
   "source": [
    "# Separating the SMSReceived column to those who received (1) and those who didn't (0) dataframes\n",
    "sms_not_received = df.query('SMSReceived  == 0') \n",
    "sms_received = df.query('SMSReceived == 1')"
   ]
  },
  {
   "cell_type": "code",
   "execution_count": 95,
   "metadata": {},
   "outputs": [
    {
     "data": {
      "text/plain": [
       "75045"
      ]
     },
     "execution_count": 95,
     "metadata": {},
     "output_type": "execute_result"
    }
   ],
   "source": [
    "# Total number of patients who DID NOT receive sms alerts\n",
    "no_sms_total = sms_not_received.SMSReceived.count()\n",
    "no_sms_total"
   ]
  },
  {
   "cell_type": "code",
   "execution_count": 96,
   "metadata": {},
   "outputs": [
    {
     "data": {
      "text/plain": [
       "35482"
      ]
     },
     "execution_count": 96,
     "metadata": {},
     "output_type": "execute_result"
    }
   ],
   "source": [
    "# Total number of patients who RECEIVED sms alerts\n",
    "sms_total = sms_received.SMSReceived.count()\n",
    "sms_total"
   ]
  },
  {
   "cell_type": "code",
   "execution_count": 97,
   "metadata": {},
   "outputs": [
    {
     "data": {
      "image/png": "[encoded data removed]",
      "text/plain": [
       "<Figure size 432x360 with 1 Axes>"
      ]
     },
     "metadata": {},
     "output_type": "display_data"
    }
   ],
   "source": [
    "# Plotting the total number of patients who either received sms or not on a histogram for better visualization\n",
    "df['SMSReceived'].value_counts().plot(kind='pie', figsize=(6,5), fontsize=12, labels = ['No SMS', 'Got SMS'], autopct='%1.1f%%', rotatelabels=True);\n",
    "plt.title('Total numbe of patients accordint to SMS status\\n');"
   ]
  },
  {
   "cell_type": "code",
   "execution_count": 98,
   "metadata": {},
   "outputs": [],
   "source": [
    "# This shows that more patients regardless of their age did not get an sms "
   ]
  },
  {
   "cell_type": "code",
   "execution_count": 99,
   "metadata": {},
   "outputs": [
    {
     "data": {
      "text/plain": [
       "0    62510\n",
       "1    12535\n",
       "Name: NoShow, dtype: int64"
      ]
     },
     "execution_count": 99,
     "metadata": {},
     "output_type": "execute_result"
    }
   ],
   "source": [
    "# Total number of patients who DID NOT receive sms by if they showed up or not for their appointment.\n",
    "sms_not_received.NoShow.value_counts()"
   ]
  },
  {
   "cell_type": "code",
   "execution_count": 100,
   "metadata": {},
   "outputs": [
    {
     "data": {
      "text/plain": [
       "62510"
      ]
     },
     "execution_count": 100,
     "metadata": {},
     "output_type": "execute_result"
    }
   ],
   "source": [
    "# Total number of patients who DID NOT receive sms and did not show up.\n",
    "total_nosms_noshow = sms_not_received.NoShow.value_counts()[0]\n",
    "total_nosms_noshow"
   ]
  },
  {
   "cell_type": "code",
   "execution_count": 101,
   "metadata": {},
   "outputs": [
    {
     "data": {
      "text/plain": [
       "12535"
      ]
     },
     "execution_count": 101,
     "metadata": {},
     "output_type": "execute_result"
    }
   ],
   "source": [
    "# Total number of patients who DID NOT receive sms but showed up.\n",
    "total_nosms_show = sms_not_received.NoShow.value_counts()[1]\n",
    "total_nosms_show"
   ]
  },
  {
   "cell_type": "code",
   "execution_count": 102,
   "metadata": {},
   "outputs": [
    {
     "data": {
      "text/plain": [
       "0    25698\n",
       "1     9784\n",
       "Name: NoShow, dtype: int64"
      ]
     },
     "execution_count": 102,
     "metadata": {},
     "output_type": "execute_result"
    }
   ],
   "source": [
    "# Total number of patients who RECEIVED sms by if they showed up or not for their appointment.\n",
    "sms_received.NoShow.value_counts()"
   ]
  },
  {
   "cell_type": "code",
   "execution_count": 103,
   "metadata": {},
   "outputs": [
    {
     "data": {
      "text/plain": [
       "25698"
      ]
     },
     "execution_count": 103,
     "metadata": {},
     "output_type": "execute_result"
    }
   ],
   "source": [
    "# Total number of patients who RECEIVED sms and did not show up.\n",
    "total_gotsms_noshow = sms_received.NoShow.value_counts()[0]\n",
    "total_gotsms_noshow"
   ]
  },
  {
   "cell_type": "code",
   "execution_count": 104,
   "metadata": {},
   "outputs": [
    {
     "data": {
      "text/plain": [
       "9784"
      ]
     },
     "execution_count": 104,
     "metadata": {},
     "output_type": "execute_result"
    }
   ],
   "source": [
    "# Total number of patients who RECEIVED sms and showed up.\n",
    "total_gotsms_show = sms_received.NoShow.value_counts()[1]\n",
    "total_gotsms_show"
   ]
  },
  {
   "cell_type": "code",
   "execution_count": 105,
   "metadata": {},
   "outputs": [
    {
     "data": {
      "text/plain": [
       "72.43"
      ]
     },
     "execution_count": 105,
     "metadata": {},
     "output_type": "execute_result"
    }
   ],
   "source": [
    "# Percentage of patients who RECEIVED SMS but did not show up\n",
    "((total_gotsms_noshow/sms_total)*100).round(2)"
   ]
  },
  {
   "cell_type": "code",
   "execution_count": 106,
   "metadata": {},
   "outputs": [
    {
     "data": {
      "text/plain": [
       "27.57"
      ]
     },
     "execution_count": 106,
     "metadata": {},
     "output_type": "execute_result"
    }
   ],
   "source": [
    "# Percentage of patients who RECEIVED SMS and showed up\n",
    "percent_gotsms_showed = ((total_gotsms_show/sms_total)*100).round(2)\n",
    "percent_gotsms_showed"
   ]
  },
  {
   "cell_type": "code",
   "execution_count": 107,
   "metadata": {},
   "outputs": [
    {
     "data": {
      "text/plain": [
       "83.3"
      ]
     },
     "execution_count": 107,
     "metadata": {},
     "output_type": "execute_result"
    }
   ],
   "source": [
    "# Percentage of patients who DID NOT RECEIVE SMS but did not show up\n",
    "((total_nosms_noshow/no_sms_total)*100).round(2)"
   ]
  },
  {
   "cell_type": "code",
   "execution_count": 108,
   "metadata": {},
   "outputs": [
    {
     "data": {
      "text/plain": [
       "16.7"
      ]
     },
     "execution_count": 108,
     "metadata": {},
     "output_type": "execute_result"
    }
   ],
   "source": [
    "# Percentage of patients who DID NOT RECEIVE SMS but showed up\n",
    "percent_no_sms_showed = ((total_nosms_show/no_sms_total)*100).round(2)\n",
    "percent_no_sms_showed"
   ]
  },
  {
   "cell_type": "code",
   "execution_count": 109,
   "metadata": {},
   "outputs": [
    {
     "data": {
      "image/png": "[encoded data removed]",
      "text/plain": [
       "<Figure size 432x288 with 1 Axes>"
      ]
     },
     "metadata": {
      "needs_background": "light"
     },
     "output_type": "display_data"
    }
   ],
   "source": [
    "# Bar plot of patients who recieved SMS and did not receive SMS and how they showed up\n",
    "colour = ['#2E8BC0', '#0C2D48']\n",
    "label1 = 'Received SMS'\n",
    "label2 = 'No SMS'\n",
    "heigh1 = percent_gotsms_showed\n",
    "height2 = percent_no_sms_showed\n",
    "bar_title = 'Patients who got and did not get sms by how they showed up\\n'\n",
    "xlabe_l = \"Patients' SMS status\"\n",
    "y_label = 'Total count'\n",
    "bar_plot(height1, height2, x_label, y_label, bar_title, color);"
   ]
  },
  {
   "cell_type": "markdown",
   "metadata": {},
   "source": [
    "## Discussion on SMSReceived Attribute"
   ]
  },
  {
   "cell_type": "markdown",
   "metadata": {},
   "source": [
    ">In determing whether the SMSReceived attribute should be a factor to consider in predicting whether patients show up for their appointments or not, the percentages of the different combination of situations below was determined.\n",
    ">Result in percentages for patients who recievd SMS alerts or not and whether they showed up for appointments or not.\n",
    "><li>Got-SMS-showed up -- 27.57%</li>\n",
    "><li>No-SMS-showed up -- 16.7%</li>\n",
    "\n",
    "><li>Got-SMS-no show -- 72.43%</li>\n",
    "><li>No-SMS-no show -- 83.3%</li>\n",
    "\n",
    "\n",
    ">The result above shows that those who received SMS had a higer percentage of show ups (27.57%) than those who did not get an SMS but showed up (16.7%). This result indicates that the SMS received by patients helped them in showing up for their appointments. It therefore should be included amongst the factors to consider in predicting whether patients show up for appointments or not."
   ]
  },
  {
   "cell_type": "markdown",
   "metadata": {},
   "source": [
    "### <li>Were patients decisions to show up or not for their appointments linked to them being handicap or not?</li>"
   ]
  },
  {
   "cell_type": "code",
   "execution_count": 110,
   "metadata": {},
   "outputs": [
    {
     "data": {
      "text/plain": [
       "0    108286\n",
       "1      2042\n",
       "2       183\n",
       "3        13\n",
       "4         3\n",
       "Name: Handicap, dtype: int64"
      ]
     },
     "execution_count": 110,
     "metadata": {},
     "output_type": "execute_result"
    }
   ],
   "source": [
    "# Total patients who are handicap (1) or not (0). \n",
    "df['Handicap'].value_counts()"
   ]
  },
  {
   "cell_type": "code",
   "execution_count": 111,
   "metadata": {},
   "outputs": [],
   "source": [
    "# The result above shows some patients have more than one illness but majority of booked appointments are from patients who are not handicap."
   ]
  },
  {
   "cell_type": "code",
   "execution_count": 112,
   "metadata": {},
   "outputs": [
    {
     "data": {
      "image/png": "[encoded data removed]",
      "text/plain": [
       "<Figure size 432x288 with 1 Axes>"
      ]
     },
     "metadata": {
      "needs_background": "light"
     },
     "output_type": "display_data"
    }
   ],
   "source": [
    "# Bar chart visualization of total number of patients handicap or not and who showed up for appointments or not.\n",
    "plt.figure(figsize=(6,4))\n",
    "ax = sns.countplot(x='Handicap',hue ='NoShow', data=df)\n",
    "plt.title('Patients and how they showed up');"
   ]
  },
  {
   "cell_type": "markdown",
   "metadata": {},
   "source": [
    "> There are more patients who are not handicap, either showing up or not for booked appointents. This is an indication that there are more non-handicap patients."
   ]
  },
  {
   "cell_type": "code",
   "execution_count": 113,
   "metadata": {},
   "outputs": [
    {
     "data": {
      "text/plain": [
       "NoShow  Handicap\n",
       "0       0           86374\n",
       "        1            1676\n",
       "        2             146\n",
       "        3              10\n",
       "        4               2\n",
       "1       0           21912\n",
       "        1             366\n",
       "        2              37\n",
       "        3               3\n",
       "        4               1\n",
       "Name: Handicap, dtype: int64"
      ]
     },
     "execution_count": 113,
     "metadata": {},
     "output_type": "execute_result"
    }
   ],
   "source": [
    "# Total number of patients either handicap or not, according to if they showed up for booked appointments or not\n",
    "df.groupby(['NoShow'])['Handicap'].value_counts()"
   ]
  },
  {
   "cell_type": "code",
   "execution_count": 114,
   "metadata": {},
   "outputs": [
    {
     "data": {
      "image/png": "[encoded data removed]",
      "text/plain": [
       "<Figure size 432x288 with 1 Axes>"
      ]
     },
     "metadata": {
      "needs_background": "light"
     },
     "output_type": "display_data"
    }
   ],
   "source": [
    "# Data visualization using bar chart of the total number of patients handicap or not who DID NOT show up\n",
    "df.groupby(['NoShow'])['Handicap'].value_counts()[0].plot(kind='bar');\n",
    "plt.title('Patients handicap or not who did not show up')\n",
    "plt.xlabel('Patients handicap status')\n",
    "plt.ylabel('Total number');\n",
    "\n"
   ]
  },
  {
   "cell_type": "markdown",
   "metadata": {},
   "source": [
    "> More clearly seen is that more non-handicap patients did not show up for appointments."
   ]
  },
  {
   "cell_type": "code",
   "execution_count": 115,
   "metadata": {},
   "outputs": [
    {
     "data": {
      "image/png": "[encoded data removed]",
      "text/plain": [
       "<Figure size 432x288 with 1 Axes>"
      ]
     },
     "metadata": {
      "needs_background": "light"
     },
     "output_type": "display_data"
    }
   ],
   "source": [
    "# Data visualization using bar chart of the total number of patients handicap or not who showed up\n",
    "df.groupby(['NoShow'])['Handicap'].value_counts()[1].plot(kind='bar');\n",
    "plt.title('Patients handicap or not who showed up')\n",
    "plt.xlabel('Patients handicap status')\n",
    "plt.ylabel('Total number');"
   ]
  },
  {
   "cell_type": "markdown",
   "metadata": {},
   "source": [
    "> Also, more non-handicap patients showed up for appointments."
   ]
  },
  {
   "cell_type": "code",
   "execution_count": 116,
   "metadata": {},
   "outputs": [],
   "source": [
    "# Separating the hadicap column into the different dataframes depending on patient's number of illness inorder to get some informatin in percentages.\n",
    "handicap0 = df.query('Handicap == 0')\n",
    "handicap1 = df.query('Handicap == 1')\n",
    "handicap2 = df.query('Handicap == 2')\n",
    "handicap3 = df.query('Handicap == 3')\n",
    "handicap4 = df.query('Handicap == 4')"
   ]
  },
  {
   "cell_type": "code",
   "execution_count": 117,
   "metadata": {},
   "outputs": [
    {
     "data": {
      "text/plain": [
       "2241"
      ]
     },
     "execution_count": 117,
     "metadata": {},
     "output_type": "execute_result"
    }
   ],
   "source": [
    "# Total number of handicap patients\n",
    "total_handicap = handicap1.Handicap.count()+handicap2.Handicap.count()+handicap3.Handicap.count()+handicap4.Handicap.count()\n",
    "total_handicap"
   ]
  },
  {
   "cell_type": "code",
   "execution_count": 118,
   "metadata": {},
   "outputs": [
    {
     "data": {
      "text/plain": [
       "108286"
      ]
     },
     "execution_count": 118,
     "metadata": {},
     "output_type": "execute_result"
    }
   ],
   "source": [
    "# Total number of non handicap patients\n",
    "total_not_handicap = handicap0.Handicap.count()\n",
    "total_not_handicap"
   ]
  },
  {
   "cell_type": "code",
   "execution_count": 119,
   "metadata": {},
   "outputs": [
    {
     "data": {
      "text/plain": [
       "0    86374\n",
       "1    21912\n",
       "Name: NoShow, dtype: int64"
      ]
     },
     "execution_count": 119,
     "metadata": {},
     "output_type": "execute_result"
    }
   ],
   "source": [
    "# Total number of non-handicap patients who showed up or not\n",
    "handicap0.NoShow.value_counts()"
   ]
  },
  {
   "cell_type": "code",
   "execution_count": 120,
   "metadata": {},
   "outputs": [
    {
     "data": {
      "text/plain": [
       "0    79.76\n",
       "1    20.24\n",
       "Name: NoShow, dtype: float64"
      ]
     },
     "execution_count": 120,
     "metadata": {},
     "output_type": "execute_result"
    }
   ],
   "source": [
    "# Percentage of non-handicap patients who showed up or not\n",
    "non_handicap_percentage = ((handicap0.NoShow.value_counts()/total_not_handicap)*100).round(2)\n",
    "non_handicap_percentage"
   ]
  },
  {
   "cell_type": "code",
   "execution_count": 121,
   "metadata": {},
   "outputs": [
    {
     "data": {
      "text/plain": [
       "0    1676\n",
       "1     366\n",
       "Name: NoShow, dtype: int64"
      ]
     },
     "execution_count": 121,
     "metadata": {},
     "output_type": "execute_result"
    }
   ],
   "source": [
    "# Total number of patients with one disability who showed up or not\n",
    "handicap1_showup_status = handicap1.NoShow.value_counts()\n",
    "handicap1_showup_status"
   ]
  },
  {
   "cell_type": "code",
   "execution_count": 122,
   "metadata": {},
   "outputs": [
    {
     "data": {
      "text/plain": [
       "0    146\n",
       "1     37\n",
       "Name: NoShow, dtype: int64"
      ]
     },
     "execution_count": 122,
     "metadata": {},
     "output_type": "execute_result"
    }
   ],
   "source": [
    "# Total number of patients with two disabilities who showed up or not\n",
    "handicap2_showup_status = handicap2.NoShow.value_counts()\n",
    "handicap2_showup_status"
   ]
  },
  {
   "cell_type": "code",
   "execution_count": 123,
   "metadata": {},
   "outputs": [
    {
     "data": {
      "text/plain": [
       "0    10\n",
       "1     3\n",
       "Name: NoShow, dtype: int64"
      ]
     },
     "execution_count": 123,
     "metadata": {},
     "output_type": "execute_result"
    }
   ],
   "source": [
    "# Total number of patients with three disabilities who showed up or not\n",
    "handicap3_showup_status = handicap3.NoShow.value_counts()\n",
    "handicap3_showup_status"
   ]
  },
  {
   "cell_type": "code",
   "execution_count": 124,
   "metadata": {},
   "outputs": [
    {
     "data": {
      "text/plain": [
       "0    2\n",
       "1    1\n",
       "Name: NoShow, dtype: int64"
      ]
     },
     "execution_count": 124,
     "metadata": {},
     "output_type": "execute_result"
    }
   ],
   "source": [
    "# Total number of patients with four disabilities who showed up or not\n",
    "handicap4_showup_status = handicap4.NoShow.value_counts()\n",
    "handicap4_showup_status"
   ]
  },
  {
   "cell_type": "code",
   "execution_count": 125,
   "metadata": {},
   "outputs": [
    {
     "data": {
      "text/plain": [
       "407"
      ]
     },
     "execution_count": 125,
     "metadata": {},
     "output_type": "execute_result"
    }
   ],
   "source": [
    "# Total number of patients who have one or more disabilities who showed up\n",
    "total_handicap_show = handicap1_showup_status[1]+handicap2_showup_status[1]+handicap3_showup_status[1]+handicap4_showup_status[1]\n",
    "total_handicap_show"
   ]
  },
  {
   "cell_type": "code",
   "execution_count": 126,
   "metadata": {},
   "outputs": [
    {
     "data": {
      "text/plain": [
       "1834"
      ]
     },
     "execution_count": 126,
     "metadata": {},
     "output_type": "execute_result"
    }
   ],
   "source": [
    "# Total number of patients who have one or more disabilities who DID NOT howed up\n",
    "total_handicap_noshow = handicap1_showup_status[0]+handicap2_showup_status[0]+handicap3_showup_status[0]+handicap4_showup_status[0]\n",
    "total_handicap_noshow"
   ]
  },
  {
   "cell_type": "code",
   "execution_count": 127,
   "metadata": {},
   "outputs": [
    {
     "data": {
      "text/plain": [
       "18.16"
      ]
     },
     "execution_count": 127,
     "metadata": {},
     "output_type": "execute_result"
    }
   ],
   "source": [
    "# Percentage of handicap patients who showed up\n",
    "handicap_showed_percent = ((total_handicap_show/total_handicap)*100).round(2)\n",
    "handicap_showed_percent"
   ]
  },
  {
   "cell_type": "code",
   "execution_count": 128,
   "metadata": {},
   "outputs": [
    {
     "data": {
      "text/plain": [
       "81.84"
      ]
     },
     "execution_count": 128,
     "metadata": {},
     "output_type": "execute_result"
    }
   ],
   "source": [
    "# Percentage of handicap patients who DID NOT showed up\n",
    "handicap_noshow_percent = ((total_handicap_noshow/total_handicap)*100).round(2)\n",
    "handicap_noshow_percent"
   ]
  },
  {
   "cell_type": "code",
   "execution_count": 129,
   "metadata": {},
   "outputs": [
    {
     "data": {
      "image/png": "[encoded data removed]",
      "text/plain": [
       "<Figure size 432x288 with 1 Axes>"
      ]
     },
     "metadata": {
      "needs_background": "light"
     },
     "output_type": "display_data"
    }
   ],
   "source": [
    "# Percentage of handicap patients who showed up and non-handicap patients who showed up\n",
    "height1 = handicap_showed_percent\n",
    "height2 = non_handicap_percentage[1]\n",
    "label1 = 'Handicap'\n",
    "label2 = 'Non-handicap'\n",
    "colour= ['purple','pink']\n",
    "x_label = \"Patients' handicap status\"\n",
    "y_label = 'Percentages'\n",
    "bar_title = 'Percentage of handica and non-handicap patients who showed up\\n'\n",
    "# tick_labels = ['show', 'no shw'\n",
    "bar_plot(height1, height2, x_label, y_label, bar_title, color);"
   ]
  },
  {
   "cell_type": "code",
   "execution_count": 130,
   "metadata": {},
   "outputs": [
    {
     "data": {
      "text/plain": [
       "19.2"
      ]
     },
     "execution_count": 130,
     "metadata": {},
     "output_type": "execute_result"
    }
   ],
   "source": [
    "# Finding the mean of the percentage of non-handicap patients who showed up / percentage of handicap patients who showed up\n",
    "mean_handicap_show = (non_handicap_percentage[1] + handicap_showed_percent)/2\n",
    "mean_handicap_show"
   ]
  },
  {
   "cell_type": "code",
   "execution_count": 131,
   "metadata": {},
   "outputs": [],
   "source": [
    "# Finding the standard deviation from the mean for handicap patients who showed up and non handicap patients who showed up"
   ]
  },
  {
   "cell_type": "code",
   "execution_count": 132,
   "metadata": {},
   "outputs": [
    {
     "data": {
      "text/plain": [
       "1.04"
      ]
     },
     "execution_count": 132,
     "metadata": {},
     "output_type": "execute_result"
    }
   ],
   "source": [
    "# standard deviation for handicap patients who showed up\n",
    "std_handicap_show = (mean_handicap_show - handicap_showed_percent).round(2)\n",
    "std_handicap_show"
   ]
  },
  {
   "cell_type": "code",
   "execution_count": 133,
   "metadata": {},
   "outputs": [
    {
     "data": {
      "text/plain": [
       "1.04"
      ]
     },
     "execution_count": 133,
     "metadata": {},
     "output_type": "execute_result"
    }
   ],
   "source": [
    "# standard deviation for non-handicap patients who showed up\n",
    "std_nonhandicap_show = ((mean_handicap_show - non_handicap_percentage[1]).round(2))*-1\n",
    "std_nonhandicap_show"
   ]
  },
  {
   "cell_type": "code",
   "execution_count": 134,
   "metadata": {},
   "outputs": [
    {
     "data": {
      "image/png": "[encoded data removed]",
      "text/plain": [
       "<Figure size 432x288 with 1 Axes>"
      ]
     },
     "metadata": {
      "needs_background": "light"
     },
     "output_type": "display_data"
    }
   ],
   "source": [
    "locations = [1, 2]\n",
    "colour = ['#E7D2CC', '#B9B7BD']\n",
    "heights = [std_handicap_show, std_nonhandicap_show]\n",
    "labels = ['Handicap patients', 'Non-hanidcap']\n",
    "plt.bar(locations, heights, color=colour, tick_label=labels);\n",
    "plt.title('Standard deviation of handicap and non-handicap patients who showed up');\n",
    "plt.ylabel('Standard Deviation')\n",
    "plt.xlabel('Patient\\'s Decisions to show');"
   ]
  },
  {
   "cell_type": "markdown",
   "metadata": {},
   "source": [
    "## Discussion on Handicap attribute"
   ]
  },
  {
   "cell_type": "markdown",
   "metadata": {},
   "source": [
    ">In trying to determine how important the handicap attribute is in predicting whether patients show up for appointments or not,\n",
    ">A total of 108,286 patient had no form of disability as they had not ticked any option to be seen as handicap.  2,042 patients had ticked only one disability, 183 patients ticked 2 types of disability, 13 signified having 3 forms of disability and 3 patients said they had four.\n",
    "\n",
    ">A bar plot was plotted to cleary see the total number of patients handicap or not and who showed up for appointments or not. It was found that there were more patients who were not handicap (108,2860) than patients who were handicap (2,241). \n",
    ">In order to see if being handicap or not actually affected patient's decicion to show up or not, the standard deviation for handicap patients who showed up and non-handicap patients who also showed up was determined and the both had the same standard deviation of 1.04, even though the percentage of non-handicap patients who showed up (20.24%) was higher than that of the percentage of handicap patients who showed up.\n",
    ">This indicated that even though non-handicap patients seem to be showing up more for their booked appointments, from the results of the standard deviations, it really did not matter if patients were handicap or not in regards to them showing up for thier booked appointments. Hence, the Handicap attribute should not be considered in determining predicting whether patients show up or not for booked appointments."
   ]
  },
  {
   "cell_type": "markdown",
   "metadata": {},
   "source": [
    "<a id='conclusions'></a>\n",
    "## Conclusions\n",
    "\n",
    ">The analysis above which was conducted to determine attributes to be inclueded from the health dataset in determing whether patients would turn out for thier booked appointments or not. The following attributes below were considered and the results follow:\n",
    "    >1. **Age attribute**: It was seen that younger patients are more likely to show up for appointment. This was concluded upon using percentages, standard deviation and correlation between young patients, old patients and their decidions to either turn up or not for appointment. Hence it shold be inclueded as a factor to consider in the predictions.\n",
    "    >2. **Scholarship**: The percentge of those on sholarship sheme who kept thier appointments (23.74%) is compared with those not on sholarship scheme who also kept their appointments (19.81%). From the percentages, those on scholarship who kept their appointments were more than those not on scholarship who also kept their appointments. Hence sholarship attribute should be included as a significant factor in predicting where patients whould show up for their appointments or not.\n",
    "    >3. **Age and Scholarship**: The scholarship attribute was not found to be a good indicator to use in predicting whether patients show up for appointments or not. This is because from analysis, even though there were more young patients on scholarship, both old and young patients showed up with no difference in their standard deviations. Is was also noticed that older patients  with no scholarship were more likely to show up for appointments than younger patients with no scholarship. Hence showing up in regards to having a scholarship was a matter of how important the medical attention was and not on scholarship. \n",
    "    >4. **SMSReceived**: The SMS received by patiensts was cleary helpful in them remembering to make their appointment dates. The result from analysis showed that those who received SMS had a higer percentage of show ups for appointments (27.57%) than those who did not get an SMS but still showed up (16.7%).\n",
    "    >5. **Handicap**: The handicap attribute was found not to be an important factor to consider for predicting patients' turn out for their appointments. The standard deviation for handicap patients who showed up and non-handicap patients who also showed up was determined and the both had the same standard deviation of 1.04, even though the percentage of non-handicap patients who showed up (20.24%) was higher than that of the percentage of handicap patients who showed up. Hence, all patients are likely to show up for their appointments regardless of whether they are handicap or not. \n",
    "\n",
    "\n",
    "> **Limitations**: \n",
    "    \n",
    ">First, there was no full understanding of what the handicap attribute addressed. It was therefore assummed that it held the total number of illness a patient had selected. For example, if a patient did not select Hipertension, Diabetes or Alcoholism, the number for that particular patient would be 0. Also, there were three booked appointments from patients who had a total of four in thier handicap columns when only three illness were documented which made understanding what the column address not clear. \n",
    "\n",
    ">Second, the Neighbourhood attribute which addressed the locations of hospitals needed more details even though not analysed in this project. For example if the column held the distance of locations of patients to hospitals, it would have helped in determining if the distance was a factor in patients deciding to show up for appointments or not if too long or short."
   ]
  }
 ],
 "metadata": {
  "kernelspec": {
   "display_name": "Python 3 (ipykernel)",
   "language": "python",
   "name": "python3"
  },
  "language_info": {
   "codemirror_mode": {
    "name": "ipython",
    "version": 3
   },
   "file_extension": ".py",
   "mimetype": "text/x-python",
   "name": "python",
   "nbconvert_exporter": "python",
   "pygments_lexer": "ipython3",
   "version": "3.9.7"
  }
 },
 "nbformat": 4,
 "nbformat_minor": 2
}
